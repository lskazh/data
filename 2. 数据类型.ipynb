{
 "cells": [
  {
   "cell_type": "markdown",
   "id": "82be2e0d",
   "metadata": {},
   "source": [
    "# <center>Numpy 的基本数据类型及取值范围</center>"
   ]
  },
  {
   "cell_type": "markdown",
   "id": "b13f0a61",
   "metadata": {},
   "source": [
    "|类型|描述|\n",
    "|:----|:---------------|\n",
    "|bool| 用一位存储的布尔类型（值为True和False）|\n",
    "|inti|由所在平台决定其精度的整数（一般为int32或int64）|\n",
    "|int8|整数，范围为 -128至127|\n",
    "|int16|整数，范围为 -32 768至32 767|\n",
    "|int32 |整数，范围为$-2^{31}$至 $2^{31}-1$|\n",
    "|int64 |整数，范围为$-2^{63}$至 $2^{63}-1$|\n",
    "|uint8|无符号整数，范围为0至255|\n",
    "|uint16|无符号整数，范围为0至65 535|\n",
    "|uint32 |无符号整数，范围为0至 $2^{32}-1$|\n",
    "|uint64|无符号整数，范围为0至$2^{64}-1$|\n",
    "|float16|半精度浮点数（16位）：<br/>其中用1位表示正负号，5位表示指数，10位表示尾数|\n",
    "|float32|单精度浮点数（32位）：<br/>其中用1位表示正负号，8位表示指数，23位表示尾数|\n",
    "|float64或float|双精度浮点数（64位）：<br/>其中用1位表示正负号，11位表示指数，52位表示尾数|\n",
    "|complex64|复数，分别用两个32位浮点数表示实部和虚部|\n",
    "|complex128或complex|复数，分别用两个64位浮点数表示实部和虚部|"
   ]
  },
  {
   "cell_type": "code",
   "execution_count": 4,
   "id": "f7432262",
   "metadata": {},
   "outputs": [
    {
     "data": {
      "text/plain": [
       "dtype('int32')"
      ]
     },
     "execution_count": 4,
     "metadata": {},
     "output_type": "execute_result"
    }
   ],
   "source": [
    "import numpy as np\n",
    "arr1 = np.array([1,2,3,4,5])\n",
    "arr1.dtype"
   ]
  },
  {
   "cell_type": "code",
   "execution_count": null,
   "id": "cfc728b3",
   "metadata": {},
   "outputs": [],
   "source": [
    "import numpy as np\n",
    "arr1 = np.array([1,2,3,4,5],dtype='float64')"
   ]
  },
  {
   "cell_type": "code",
   "execution_count": 4,
   "id": "39a98f46",
   "metadata": {},
   "outputs": [
    {
     "data": {
      "text/plain": [
       "array([1, 2, 3, 4, 5])"
      ]
     },
     "execution_count": 4,
     "metadata": {},
     "output_type": "execute_result"
    }
   ],
   "source": [
    "# 转变数组类型\n",
    "arr2 = arr1.astype(\"int32\")\n",
    "arr2"
   ]
  }
 ],
 "metadata": {
  "kernelspec": {
   "display_name": "Python 3 (ipykernel)",
   "language": "python",
   "name": "python3"
  },
  "language_info": {
   "codemirror_mode": {
    "name": "ipython",
    "version": 3
   },
   "file_extension": ".py",
   "mimetype": "text/x-python",
   "name": "python",
   "nbconvert_exporter": "python",
   "pygments_lexer": "ipython3",
   "version": "3.8.11"
  }
 },
 "nbformat": 4,
 "nbformat_minor": 5
}
