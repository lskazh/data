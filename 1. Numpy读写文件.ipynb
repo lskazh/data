{
 "cells": [
  {
   "cell_type": "markdown",
   "id": "fa758699",
   "metadata": {},
   "source": [
    "# <center>Numpy读写文件</center>"
   ]
  },
  {
   "cell_type": "markdown",
   "id": "ac7b05e1",
   "metadata": {},
   "source": [
    "NumPy 文件读写主要有二进制的文件读写和文件列表形式的数据读写两种形式\n",
    "\n",
    "* 读取/保存二进制格式文件\n",
    "    * save 函数是以二进制的格式保存数据。   格式:   np.save (\"./save_arr \", arr1)\n",
    "    * load 函数是从二进制的文件中读取数据。   格式:   np.load(\"./ save_arr.npy\")\n",
    "    * savez 函数可以将多个数组保存到一个文件中。   格式:   np.savez('./savez_arr',arr1,arr2)\n",
    "\n",
    "* 读取/保存文本格式（TXT CSV 格式）文件\n",
    "    * savetxt 函数是将数组写到某种分隔符隔开的文本文件中。   格式:   np.savetxt(\"./arr.txt\", arr, fmt=\"%d\", delimiter=\",\")\n",
    "    * loadtxt 函数执行的是把文件加载到一个二维数组中。   格式:   np.loadtxt(\"./arr.txt\",delimiter=\",\")\n",
    "    * genfromtxt 函数面向的是结构化数组和缺失数据。   格式:   np.genfromtxt(\"./arr2.txt\", delimiter = \",\")"
   ]
  },
  {
   "cell_type": "markdown",
   "id": "47d64453",
   "metadata": {},
   "source": [
    "## 1. 读取/保存二进制格式文件"
   ]
  },
  {
   "cell_type": "code",
   "execution_count": 2,
   "id": "4e1d85f9",
   "metadata": {},
   "outputs": [
    {
     "name": "stdout",
     "output_type": "stream",
     "text": [
      "[[ 0  1  2  3  4  5  6  7]\n",
      " [ 8  9 10 11 12 13 14 15]\n",
      " [16 17 18 19 20 21 22 23]\n",
      " [24 25 26 27 28 29 30 31]\n",
      " [32 33 34 35 36 37 38 39]]\n"
     ]
    }
   ],
   "source": [
    "#save() 函数是以二进制的格式保存数据\n",
    "import numpy as np\n",
    " \n",
    "arr1 = np.arange(40).reshape((5,8))\n",
    "print(arr1)\n",
    "\n",
    " \n",
    "# 保存二进制文件,npy格式是一个数组的文件保存\n",
    "np.save('../data/save_arr',arr1)  "
   ]
  },
  {
   "cell_type": "code",
   "execution_count": 2,
   "id": "e7d5129c",
   "metadata": {},
   "outputs": [
    {
     "name": "stdout",
     "output_type": "stream",
     "text": [
      "[[ 0  1  2  3  4  5  6  7]\n",
      " [ 8  9 10 11 12 13 14 15]\n",
      " [16 17 18 19 20 21 22 23]\n",
      " [24 25 26 27 28 29 30 31]\n",
      " [32 33 34 35 36 37 38 39]]\n"
     ]
    }
   ],
   "source": [
    "# load() 函数是从二进制的文件中读取数据\n",
    "arr3 = np.load('../data/save_arr.npy')  # 读取二进制文件\n",
    "print(arr3)"
   ]
  },
  {
   "cell_type": "code",
   "execution_count": 3,
   "id": "dd50b407",
   "metadata": {},
   "outputs": [
    {
     "name": "stdout",
     "output_type": "stream",
     "text": [
      "[[ 0  1  2  3  4  5  6  7]\n",
      " [ 8  9 10 11 12 13 14 15]\n",
      " [16 17 18 19 20 21 22 23]\n",
      " [24 25 26 27 28 29 30 31]\n",
      " [32 33 34 35 36 37 38 39]]\n",
      "[1 2 3 4 5 6 7 8 9]\n"
     ]
    }
   ],
   "source": [
    "#savez() 函数可以将多个数组保存到一个文件中\n",
    "\n",
    "import numpy as np\n",
    " \n",
    "arr1 = np.arange(40).reshape((5,8))\n",
    "arr2 = np.arange(1,10,1)\n",
    "print(arr1)\n",
    "print(arr2)\n",
    " \n",
    "np.savez('../data/savez_arr',arr1,b=arr2)  "
   ]
  },
  {
   "cell_type": "code",
   "execution_count": 4,
   "id": "dbe71233",
   "metadata": {},
   "outputs": [
    {
     "name": "stdout",
     "output_type": "stream",
     "text": [
      "<numpy.lib.npyio.NpzFile object at 0x0000021441F7D9D0>\n",
      "['b', 'arr_0']\n",
      "[[ 0  1  2  3  4  5  6  7]\n",
      " [ 8  9 10 11 12 13 14 15]\n",
      " [16 17 18 19 20 21 22 23]\n",
      " [24 25 26 27 28 29 30 31]\n",
      " [32 33 34 35 36 37 38 39]]\n",
      "[1 2 3 4 5 6 7 8 9]\n"
     ]
    }
   ],
   "source": [
    "# 仍是通过load函数读取\n",
    "load_data = np.load('../data/savez_arr.npz')  # 读取二进制文件\n",
    "print(load_data)\n",
    "# 查看文件\n",
    "print(load_data.files)\n",
    "   \n",
    "print(load_data['arr_0'])\n",
    "print(load_data['b'])\n",
    " "
   ]
  },
  {
   "cell_type": "markdown",
   "id": "a32e07f4",
   "metadata": {},
   "source": [
    "### 优缺点  \n",
    "* 优点：\n",
    "    * npy 文件可以保存任意维度的 numpy 数组，不限于一维和二维；\n",
    "    * npy 保存了 numpy 数组的结构，保存的时候是什么 shape 和 dtype，取出来时就是什么样的 shape 和 dtype；\n",
    "    * 可以同时保存多个 numpy 数组；  \n",
    "* 缺点：\n",
    "    * 保存多个 numpy 数组时，只能同时保存\n",
    "    * 查看不便"
   ]
  },
  {
   "cell_type": "markdown",
   "id": "92eb1e7f",
   "metadata": {},
   "source": [
    "## 2. 读取/保存文本格式（TXT CSV 格式）文件"
   ]
  },
  {
   "cell_type": "code",
   "execution_count": 4,
   "id": "1b12df75",
   "metadata": {},
   "outputs": [
    {
     "name": "stdout",
     "output_type": "stream",
     "text": [
      "[[0 1 2]\n",
      " [3 4 5]\n",
      " [6 7 8]]\n"
     ]
    }
   ],
   "source": [
    "#savetxt() 函数是将数组写到某种分隔符隔开的文本文件中;\n",
    "\n",
    "import numpy as np\n",
    " \n",
    "arr = np.arange(0,9,1).reshape(3,-1) # -1的意思是根据行数自动匹配列数\n",
    "print(arr)\n",
    "\n",
    "# fmt='%d'表示保存为整数，delimiter=\",\"表示用','隔开\n",
    "np.savetxt('../data/arr.txt',arr,fmt='%d',delimiter=',')    # 保存\n"
   ]
  },
  {
   "cell_type": "code",
   "execution_count": 6,
   "id": "3a743a64",
   "metadata": {
    "scrolled": true
   },
   "outputs": [
    {
     "data": {
      "text/plain": [
       "array([[0, 1, 2],\n",
       "       [3, 4, 5],\n",
       "       [6, 7, 8]], dtype=int64)"
      ]
     },
     "execution_count": 6,
     "metadata": {},
     "output_type": "execute_result"
    }
   ],
   "source": [
    "#  loadtxt() 函数执行的是把文件加载到一个数组中，默认dtype 为float\n",
    "load_txt = np.loadtxt('../data/arr1.txt', dtype=np.int64, delimiter=',',skiprows=1)  # 读取\n",
    "load_txt"
   ]
  },
  {
   "cell_type": "code",
   "execution_count": 11,
   "id": "69850c79",
   "metadata": {},
   "outputs": [
    {
     "data": {
      "text/plain": [
       "array([[0, 1, 2],\n",
       "       [3, 4, 5],\n",
       "       [6, 7, 8]], dtype=int64)"
      ]
     },
     "execution_count": 11,
     "metadata": {},
     "output_type": "execute_result"
    }
   ],
   "source": [
    "#  loadtxt() 函数执行时数据类型需一致，如果存在表头，skiprows=1\n",
    "load_txt = np.loadtxt('../data/arr1.txt', dtype=np.int64, delimiter=',',skiprows=1)  # 读取\n",
    "load_txt"
   ]
  },
  {
   "cell_type": "code",
   "execution_count": 21,
   "id": "536b85df",
   "metadata": {},
   "outputs": [
    {
     "name": "stdout",
     "output_type": "stream",
     "text": [
      "[[nan nan nan]\n",
      " [ 0.  1.  2.]\n",
      " [ 3. nan  5.]\n",
      " [ 6.  7.  8.]]\n"
     ]
    }
   ],
   "source": [
    "# genfromtxt 函数面向的是结构化数组和缺失数据(基本操作),通过 skip_header=1跳过第一行\n",
    "load_txt = np.genfromtxt('../data/arr2.txt',delimiter=',')  # 读取\n",
    "print(load_txt)"
   ]
  },
  {
   "cell_type": "code",
   "execution_count": 20,
   "id": "0a95764b",
   "metadata": {},
   "outputs": [
    {
     "name": "stdout",
     "output_type": "stream",
     "text": [
      "[[0. 1. 2.]\n",
      " [3. 0. 5.]\n",
      " [6. 7. 8.]]\n"
     ]
    }
   ],
   "source": [
    "# 指定缺失值用0填充\n",
    "load_txt = np.genfromtxt('../data/arr2.txt',delimiter=',',\n",
    "                         skip_header=1,missing_values = 'NA', filling_values = 0)\n",
    "print(load_txt)"
   ]
  },
  {
   "cell_type": "markdown",
   "id": "b00a2979",
   "metadata": {},
   "source": [
    "* 优点：\n",
    "    * 查看方便\n",
    "* 缺点：\n",
    "    * csv 和 txt 只能用来存一维或二维 numpy 数组;\n",
    "    * 不能追加保存，即每次 np.savetxt() 都会覆盖之前的内容"
   ]
  }
 ],
 "metadata": {
  "kernelspec": {
   "display_name": "Python 3 (ipykernel)",
   "language": "python",
   "name": "python3"
  },
  "language_info": {
   "codemirror_mode": {
    "name": "ipython",
    "version": 3
   },
   "file_extension": ".py",
   "mimetype": "text/x-python",
   "name": "python",
   "nbconvert_exporter": "python",
   "pygments_lexer": "ipython3",
   "version": "3.8.11"
  }
 },
 "nbformat": 4,
 "nbformat_minor": 5
}
