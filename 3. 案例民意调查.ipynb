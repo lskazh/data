{
 "cells": [
  {
   "cell_type": "markdown",
   "id": "27ab671d",
   "metadata": {},
   "source": [
    "# <center>2016年美国大选民意调查数据统计</center>"
   ]
  },
  {
   "cell_type": "markdown",
   "id": "a2b24649",
   "metadata": {},
   "source": [
    "* 目标：分析希拉里和特朗普每个月的民意调查统计趋势\n",
    "* 涉及知识点：\n",
    "    * numpy读取文本文件\n",
    "    * 处理日期格式数据\n",
    "    * numpy的切片和索引\n",
    "    * 过滤函数filter\n",
    "    * numpy的统计方法\n",
    "    * 列表推导式"
   ]
  },
  {
   "cell_type": "code",
   "execution_count": 1,
   "id": "ee3f9653",
   "metadata": {},
   "outputs": [],
   "source": [
    "import numpy as np"
   ]
  },
  {
   "cell_type": "code",
   "execution_count": 2,
   "id": "70f1a9b6",
   "metadata": {},
   "outputs": [
    {
     "name": "stdout",
     "output_type": "stream",
     "text": [
      "['cycle', 'branch', 'type', 'matchup', 'forecastdate', 'state', 'startdate', 'enddate', 'pollster', 'grade', 'samplesize', 'population', 'poll_wt', 'rawpoll_clinton', 'rawpoll_trump', 'rawpoll_johnson', 'rawpoll_mcmullin', 'adjpoll_clinton', 'adjpoll_trump', 'adjpoll_johnson', 'adjpoll_mcmullin', 'multiversions', 'url', 'poll_id', 'question_id', 'createddate', 'timestamp']\n"
     ]
    }
   ],
   "source": [
    "filename = '../data/presidential_polls.csv'\n",
    "with open(filename, 'r') as f:\n",
    "    col_names_str = f.readline()[:-1]  # [:-1]表示不读取末尾的换行符'\\n'\n",
    "# 将字符串拆分，并组成列表\n",
    "col_name_lst = col_names_str.split(',')\n",
    "print(col_name_lst)"
   ]
  },
  {
   "cell_type": "code",
   "execution_count": 3,
   "id": "23ff8697",
   "metadata": {},
   "outputs": [
    {
     "data": {
      "text/plain": [
       "[7, 13, 14, 17, 18]"
      ]
     },
     "execution_count": 3,
     "metadata": {},
     "output_type": "execute_result"
    }
   ],
   "source": [
    "# 时间，希拉里的原始民意调查、特朗普的原始民意调查、希拉里调整后的民意调查、特朗普调整后的民意调查\n",
    "use_cols=['enddate', 'rawpoll_clinton', 'rawpoll_trump','adjpoll_clinton','adjpoll_trump']\n",
    "# 获取use_cols中各个元素在col_name_lst中的位置\n",
    "use_col_index_lst = [ col_name_lst.index(use_col_name) for use_col_name in use_cols]\n",
    "use_col_index_lst"
   ]
  },
  {
   "cell_type": "code",
   "execution_count": 4,
   "id": "309d7dc0",
   "metadata": {},
   "outputs": [
    {
     "data": {
      "text/plain": [
       "array([['10/31/2016', '37.69 ', '35.07 ', '42.64 ', '40.87 '],\n",
       "       ['10/30/2016', '45.00 ', '46.00 ', '43.30 ', '44.73 '],\n",
       "       ['10/30/2016', '48.00 ', '42.00 ', '46.30 ', '40.73 '],\n",
       "       ['10/24/2016', '48.00 ', '45.00 ', '46.36 ', '45.31 '],\n",
       "       ['10/25/2016', '46.00 ', '40.00 ', '45.33 ', '42.21 '],\n",
       "       ['10/25/2016', '44.00 ', '41.00 ', '44.65 ', '42.27 '],\n",
       "       ['10/31/2016', '44.60 ', '43.70 ', '46.22 ', '43.56 '],\n",
       "       ['10/30/2016', '47.00 ', '44.00 ', '46.89 ', '43.50 '],\n",
       "       ['10/27/2016', '41.70 ', '36.40 ', '41.23 ', '37.25 '],\n",
       "       ['10/31/2016', '42.00 ', '40.00 ', '42.22 ', '41.70 ']],\n",
       "      dtype='<U10')"
      ]
     },
     "execution_count": 4,
     "metadata": {},
     "output_type": "execute_result"
    }
   ],
   "source": [
    "# 读取数据\n",
    "data_array=np.loadtxt(filename,        #文件名\n",
    "                      delimiter=',',   #分隔符\n",
    "                      skiprows=1,      #跳过第一行，即跳过列名\n",
    "                      dtype=str,       #将所有数据默认为str类型，稍后对日期数据进行转换\n",
    "                      usecols=use_col_index_lst) #读取指定列的数据\n",
    "data_array[0:10]"
   ]
  },
  {
   "cell_type": "code",
   "execution_count": 5,
   "id": "3621a315",
   "metadata": {
    "scrolled": true
   },
   "outputs": [
    {
     "data": {
      "text/plain": [
       "(10236, 5)"
      ]
     },
     "execution_count": 5,
     "metadata": {},
     "output_type": "execute_result"
    }
   ],
   "source": [
    "# 查看数组形态\n",
    "data_array.shape"
   ]
  },
  {
   "cell_type": "code",
   "execution_count": 6,
   "id": "5fc7a7d1",
   "metadata": {
    "scrolled": true
   },
   "outputs": [
    {
     "data": {
      "text/plain": [
       "array(['2015-11', '2015-12', '2016-01', '2016-02', '2016-03', '2016-04',\n",
       "       '2016-05', '2016-06', '2016-07', '2016-08', '2016-09', '2016-10'],\n",
       "      dtype='<U7')"
      ]
     },
     "execution_count": 6,
     "metadata": {},
     "output_type": "execute_result"
    }
   ],
   "source": [
    "import datetime\n",
    "\n",
    "#处理日期格式数据\n",
    "enddate_idx = use_cols.index('enddate')\n",
    "\n",
    "#利用切片操作，取得日期列，然后将数组转换为列表，方便接下来操作\n",
    "enddate_lst = data_array[:,enddate_idx].tolist() \n",
    "\n",
    "#将日期字符转换为日期\n",
    "date_lst = [datetime.datetime.strptime(enddate, '%m/%d/%Y') for enddate in enddate_lst]\n",
    "\n",
    "#构造年份-月份列表\n",
    "month_lst=['%d-%02d'%(date_obj.year,date_obj.month)for date_obj in date_lst]\n",
    "#print(month_lst)\n",
    "\n",
    "month_array = np.array(month_lst)\n",
    "months=np.unique(month_array)\n",
    "months"
   ]
  },
  {
   "cell_type": "code",
   "execution_count": 7,
   "id": "e730c21a",
   "metadata": {},
   "outputs": [],
   "source": [
    "rawpoll_trump_idx = use_cols.index('rawpoll_trump')\n",
    "rawpoll_trump_data = data_array[:, rawpoll_trump_idx]"
   ]
  },
  {
   "cell_type": "code",
   "execution_count": 8,
   "id": "28b680f5",
   "metadata": {},
   "outputs": [
    {
     "ename": "ValueError",
     "evalue": "could not convert string to float: 'rv'",
     "output_type": "error",
     "traceback": [
      "\u001b[1;31m---------------------------------------------------------------------------\u001b[0m",
      "\u001b[1;31mValueError\u001b[0m                                Traceback (most recent call last)",
      "\u001b[1;32m~\\AppData\\Local\\Temp/ipykernel_6952/3668674957.py\u001b[0m in \u001b[0;36m<module>\u001b[1;34m\u001b[0m\n\u001b[1;32m----> 1\u001b[1;33m \u001b[0mrawpoll_trump_data1\u001b[0m\u001b[1;33m=\u001b[0m \u001b[0mrawpoll_trump_data\u001b[0m\u001b[1;33m.\u001b[0m\u001b[0mastype\u001b[0m\u001b[1;33m(\u001b[0m\u001b[0mfloat\u001b[0m\u001b[1;33m)\u001b[0m\u001b[1;33m\u001b[0m\u001b[1;33m\u001b[0m\u001b[0m\n\u001b[0m",
      "\u001b[1;31mValueError\u001b[0m: could not convert string to float: 'rv'"
     ]
    }
   ],
   "source": [
    "# rawpoll_trump_data1= rawpoll_trump_data.astype(float)"
   ]
  },
  {
   "cell_type": "code",
   "execution_count": 9,
   "id": "53b1d5dc",
   "metadata": {},
   "outputs": [
    {
     "data": {
      "text/plain": [
       "dtype('<U10')"
      ]
     },
     "execution_count": 9,
     "metadata": {},
     "output_type": "execute_result"
    }
   ],
   "source": [
    "# 查看\n",
    "data_array[:,2].dtype"
   ]
  },
  {
   "cell_type": "code",
   "execution_count": 11,
   "id": "eed2f6af",
   "metadata": {},
   "outputs": [],
   "source": [
    "def is_convert_float(s):\n",
    "    \"\"\"\n",
    "    判断一个字符串能否转换为float\n",
    "    \"\"\"\n",
    "    try:\n",
    "        float(s)\n",
    "    except:\n",
    "        return False\n",
    "    return True"
   ]
  },
  {
   "cell_type": "code",
   "execution_count": 12,
   "id": "8610e201",
   "metadata": {},
   "outputs": [],
   "source": [
    "def get_sum(str_array):\n",
    "    \"\"\"\n",
    "    返回字符串数组中数字的总和\n",
    "    \"\"\"\n",
    "    # 去掉不能转换成数字的数据\n",
    "    cleaned_data = list(filter(is_convert_float, str_array))\n",
    "    # 转换数据类型\n",
    "    float_array = np.array(cleaned_data, float)\n",
    "    \n",
    "    return np.sum(float_array)"
   ]
  },
  {
   "cell_type": "code",
   "execution_count": 13,
   "id": "051c5b53",
   "metadata": {
    "scrolled": true
   },
   "outputs": [
    {
     "data": {
      "text/plain": [
       "[('2015-11', 1948.1999999999998),\n",
       " ('2015-12', 4164.3),\n",
       " ('2016-01', 6267.0),\n",
       " ('2016-02', 7528.200000000001),\n",
       " ('2016-03', 9626.7),\n",
       " ('2016-04', 9396.3),\n",
       " ('2016-05', 11456.1061505),\n",
       " ('2016-06', 16551.9),\n",
       " ('2016-07', 21426.989999999998),\n",
       " ('2016-08', 59529.0),\n",
       " ('2016-09', 98418.9955574),\n",
       " ('2016-10', 155392.975543)]"
      ]
     },
     "execution_count": 13,
     "metadata": {},
     "output_type": "execute_result"
    }
   ],
   "source": [
    "# 统计特朗普的民调\n",
    "rawpoll_trump_results = []\n",
    "for month in months:\n",
    "    # 原始数据 rawpoll\n",
    "    rawpoll_trump_month_data = rawpoll_trump_data[month_array == month]  \n",
    "    # 统计当月的总票数\n",
    "    rawpoll_trump_on_month_sum = get_sum(rawpoll_trump_month_data)\n",
    "    rawpoll_trump_results.append((month,rawpoll_trump_on_month_sum))\n",
    "rawpoll_trump_results"
   ]
  },
  {
   "cell_type": "code",
   "execution_count": 14,
   "id": "b10593f8",
   "metadata": {},
   "outputs": [
    {
     "data": {
      "text/plain": [
       "[('2015-11', 1920.0),\n",
       " ('2015-12', 4816.8),\n",
       " ('2016-01', 6861.60007685),\n",
       " ('2016-02', 8271.6002536),\n",
       " ('2016-03', 11656.202546),\n",
       " ('2016-04', 11911.8039268),\n",
       " ('2016-05', 12155.7247957),\n",
       " ('2016-06', 20721.0537163),\n",
       " ('2016-07', 22007.0138546),\n",
       " ('2016-08', 63619.396242),\n",
       " ('2016-09', 96476.6678689),\n",
       " ('2016-10', 162766.8889154)]"
      ]
     },
     "execution_count": 14,
     "metadata": {},
     "output_type": "execute_result"
    }
   ],
   "source": [
    "# 统计希拉里的民调\n",
    "rawpoll_clinton_idx = use_cols.index('rawpoll_clinton')\n",
    "rawpoll_clinton_data = data_array[:, rawpoll_clinton_idx]\n",
    "\n",
    "rawpoll_clinton_results = []\n",
    "for month in months:\n",
    "    # 原始数据 rawpoll\n",
    "    rawpoll_clinton_month_data = rawpoll_clinton_data[month_array == month]  \n",
    "    # 统计当月的总票数\n",
    "    rawpoll_clinton_on_month_sum = get_sum(rawpoll_clinton_month_data)\n",
    "    rawpoll_clinton_results.append((month,rawpoll_clinton_on_month_sum))\n",
    "rawpoll_clinton_results"
   ]
  },
  {
   "cell_type": "code",
   "execution_count": null,
   "id": "2403c73c",
   "metadata": {},
   "outputs": [],
   "source": []
  }
 ],
 "metadata": {
  "kernelspec": {
   "display_name": "Python 3 (ipykernel)",
   "language": "python",
   "name": "python3"
  },
  "language_info": {
   "codemirror_mode": {
    "name": "ipython",
    "version": 3
   },
   "file_extension": ".py",
   "mimetype": "text/x-python",
   "name": "python",
   "nbconvert_exporter": "python",
   "pygments_lexer": "ipython3",
   "version": "3.8.11"
  }
 },
 "nbformat": 4,
 "nbformat_minor": 5
}
