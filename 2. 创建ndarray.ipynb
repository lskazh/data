{
 "cells": [
  {
   "cell_type": "markdown",
   "id": "11f1d627",
   "metadata": {},
   "source": [
    "#  <center>创建ndarray</center>"
   ]
  },
  {
   "cell_type": "markdown",
   "id": "4aef84ef",
   "metadata": {},
   "source": [
    "## 1 使用array函数来创建数组"
   ]
  },
  {
   "cell_type": "markdown",
   "id": "b8138501",
   "metadata": {},
   "source": [
    "可以将列表、元组、嵌套列表、嵌套元组等给定的python序列转化为数组，这里需要注意的有2点：\n",
    "1. 在利用array函数之前，事先要导入Numpy包；\n",
    "2. 由于在ndarray末尾是没有预留空间来快速添加新元素的，所以NumPy数组无法像Python列表那样增长，因此，通常的做法是在变长Python列表中准备好数据，然后将其转换为NumPy数组。"
   ]
  },
  {
   "cell_type": "code",
   "execution_count": 1,
   "id": "a4ba7bfd",
   "metadata": {},
   "outputs": [
    {
     "data": {
      "text/plain": [
       "array([ 1,  2,  3,  4,  5,  6,  7,  8,  9, 10])"
      ]
     },
     "execution_count": 1,
     "metadata": {},
     "output_type": "execute_result"
    }
   ],
   "source": [
    "import numpy as np\n",
    "# 创建一个一维数组，参数Python的单元素List\n",
    "a = np.array([1,2,3,4,5,6,7,8,9,10])\n",
    "a"
   ]
  },
  {
   "cell_type": "code",
   "execution_count": 2,
   "id": "72fff8bc",
   "metadata": {},
   "outputs": [
    {
     "data": {
      "text/plain": [
       "array([[ 1,  2,  3,  4,  5],\n",
       "       [ 6,  7,  8,  9, 10]])"
      ]
     },
     "execution_count": 2,
     "metadata": {},
     "output_type": "execute_result"
    }
   ],
   "source": [
    "# 创建一个二维数组，参数为Python的嵌套List\n",
    "b = np.array([[1,2,3,4,5],[6,7,8,9,10]])\n",
    "b"
   ]
  },
  {
   "cell_type": "code",
   "execution_count": 3,
   "id": "bf493810",
   "metadata": {},
   "outputs": [
    {
     "name": "stdout",
     "output_type": "stream",
     "text": [
      "t:\n",
      " [1 2 3]\n",
      "t1:\n",
      " [[1 2 3]\n",
      " [4 5 6]]\n"
     ]
    }
   ],
   "source": [
    "# 创建一个一维数组，参数为一个tuple\n",
    "t = np.array((1,2,3))\n",
    "print(\"t:\\n\",t)\n",
    "\n",
    "# 创建一个二维数组，参数为Python的嵌套tuple\n",
    "t1 = np.array(((1,2,3),(4,5,6)))\n",
    "print(\"t1:\\n\",t1)"
   ]
  },
  {
   "cell_type": "markdown",
   "id": "e1f79642",
   "metadata": {},
   "source": [
    "## 2 使用numpy函数创建数组"
   ]
  },
  {
   "cell_type": "markdown",
   "id": "93f3c709",
   "metadata": {},
   "source": [
    "###  1） arange函数: 类似于python的range函数，通过指定开始值、终值和步长来创建一维数组，注意数组不包括终值"
   ]
  },
  {
   "cell_type": "code",
   "execution_count": 4,
   "id": "e34d7539",
   "metadata": {},
   "outputs": [
    {
     "data": {
      "text/plain": [
       "array([0. , 0.5, 1. , 1.5])"
      ]
     },
     "execution_count": 4,
     "metadata": {},
     "output_type": "execute_result"
    }
   ],
   "source": [
    "np.arange(0,2,0.5)"
   ]
  },
  {
   "cell_type": "code",
   "execution_count": 5,
   "id": "8d40ab08",
   "metadata": {},
   "outputs": [
    {
     "data": {
      "text/plain": [
       "array([0, 1, 2, 3, 4, 5, 6, 7])"
      ]
     },
     "execution_count": 5,
     "metadata": {},
     "output_type": "execute_result"
    }
   ],
   "source": [
    "#一个参数和第三个参数是可以省略\n",
    "np.arange(8)"
   ]
  },
  {
   "cell_type": "markdown",
   "id": "b0577135",
   "metadata": {},
   "source": [
    "### 2） linspace函数: linspace函数通过指定开始值、终值和元素个数来创建一维数组"
   ]
  },
  {
   "cell_type": "code",
   "execution_count": 9,
   "id": "efa3fcec",
   "metadata": {},
   "outputs": [
    {
     "data": {
      "text/plain": [
       "array([0., 1., 2., 3.])"
      ]
     },
     "execution_count": 9,
     "metadata": {},
     "output_type": "execute_result"
    }
   ],
   "source": [
    "## 默认包括终值\n",
    "np.linspace?\n",
    "np.linspace(0, 3, 4)"
   ]
  },
  {
   "cell_type": "code",
   "execution_count": 8,
   "id": "dc38168c",
   "metadata": {},
   "outputs": [
    {
     "data": {
      "text/plain": [
       "array([0.  , 0.25, 0.5 , 0.75, 1.  ])"
      ]
     },
     "execution_count": 8,
     "metadata": {},
     "output_type": "execute_result"
    }
   ],
   "source": [
    "# 通过endpoint关键字指定是否包括终值。\n",
    "np.linspace(0,1,5,endpoint=True)"
   ]
  },
  {
   "cell_type": "code",
   "execution_count": 10,
   "id": "6c5abfb7",
   "metadata": {},
   "outputs": [
    {
     "data": {
      "text/plain": [
       "array([147., 144., 141., 138., 135., 132., 129., 126., 123., 120., 117.,\n",
       "       114., 111., 108., 105., 102.,  99.,  96.,  93.,  90.,  87.,  84.,\n",
       "        81.,  78.,  75.,  72.,  69.,  66.,  63.,  60.,  57.,  54.,  51.,\n",
       "        48.,  45.,  42.,  39.,  36.,  33.,  30.,  27.,  24.,  21.,  18.,\n",
       "        15.,  12.,   9.,   6.,   3.,   0.])"
      ]
     },
     "execution_count": 10,
     "metadata": {},
     "output_type": "execute_result"
    }
   ],
   "source": [
    "#第三个参数在省略的情况下，函数默认会产生50步数等长个数\n",
    "np.linspace(147,0) "
   ]
  },
  {
   "cell_type": "code",
   "execution_count": null,
   "id": "6e0f72da",
   "metadata": {},
   "outputs": [],
   "source": [
    "# retstep=True 输出步长，输出为tuple\n",
    "np.linspace(0,33,11,retstep=True)"
   ]
  },
  {
   "cell_type": "markdown",
   "id": "cd7ee391",
   "metadata": {},
   "source": [
    "### 3） logspace函数:和linspace类似，不过它创建等比数列，下面的例子产生1( $10^0$)到100($10^2$)、有3个元素的等比数列:"
   ]
  },
  {
   "cell_type": "code",
   "execution_count": 11,
   "id": "775701bc",
   "metadata": {},
   "outputs": [
    {
     "data": {
      "text/plain": [
       "array([  1.,  10., 100.])"
      ]
     },
     "execution_count": 11,
     "metadata": {},
     "output_type": "execute_result"
    }
   ],
   "source": [
    "np.logspace(0,2,3)"
   ]
  },
  {
   "cell_type": "markdown",
   "id": "ee9ef6e6",
   "metadata": {},
   "source": [
    "### 4） zeros：创建一个用指定形状用0填充的数组"
   ]
  },
  {
   "cell_type": "code",
   "execution_count": 13,
   "id": "82781508",
   "metadata": {},
   "outputs": [
    {
     "data": {
      "text/plain": [
       "array([[0, 0, 0],\n",
       "       [0, 0, 0]])"
      ]
     },
     "execution_count": 13,
     "metadata": {},
     "output_type": "execute_result"
    }
   ],
   "source": [
    "np.zeros ((2, 3),dtype='int32')"
   ]
  },
  {
   "cell_type": "markdown",
   "id": "64e03e0f",
   "metadata": {},
   "source": [
    "### 5）eye：创建一个主对角线为1，其它为0的数组"
   ]
  },
  {
   "cell_type": "code",
   "execution_count": 14,
   "id": "a65ddcd1",
   "metadata": {},
   "outputs": [
    {
     "data": {
      "text/plain": [
       "array([[1., 0., 0., 0., 0.],\n",
       "       [0., 1., 0., 0., 0.],\n",
       "       [0., 0., 1., 0., 0.]])"
      ]
     },
     "execution_count": 14,
     "metadata": {},
     "output_type": "execute_result"
    }
   ],
   "source": [
    "np.eye(3,5)"
   ]
  },
  {
   "cell_type": "code",
   "execution_count": 15,
   "id": "edc29066",
   "metadata": {},
   "outputs": [
    {
     "data": {
      "text/plain": [
       "array([[0., 0., 1., 0., 0.],\n",
       "       [0., 0., 0., 1., 0.],\n",
       "       [0., 0., 0., 0., 1.]])"
      ]
     },
     "execution_count": 15,
     "metadata": {},
     "output_type": "execute_result"
    }
   ],
   "source": [
    "np.eye(3,5,2)"
   ]
  },
  {
   "cell_type": "markdown",
   "id": "9254a76e",
   "metadata": {},
   "source": [
    "### 6）diag: 创建一个除对角线全为0的数组"
   ]
  },
  {
   "cell_type": "code",
   "execution_count": 16,
   "id": "0671d975",
   "metadata": {},
   "outputs": [
    {
     "data": {
      "text/plain": [
       "array([[1, 0, 0, 0],\n",
       "       [0, 2, 0, 0],\n",
       "       [0, 0, 3, 0],\n",
       "       [0, 0, 0, 4]])"
      ]
     },
     "execution_count": 16,
     "metadata": {},
     "output_type": "execute_result"
    }
   ],
   "source": [
    "np.diag([1,2,3,4])"
   ]
  },
  {
   "cell_type": "markdown",
   "id": "2167df2f",
   "metadata": {},
   "source": [
    "### 7）ones(shape)：创建一个用指定形状用1填充的数组"
   ]
  },
  {
   "cell_type": "code",
   "execution_count": 17,
   "id": "2bff643a",
   "metadata": {},
   "outputs": [
    {
     "data": {
      "text/plain": [
       "array([[1., 1., 1.],\n",
       "       [1., 1., 1.]])"
      ]
     },
     "execution_count": 17,
     "metadata": {},
     "output_type": "execute_result"
    }
   ],
   "source": [
    "np.ones((2,3))"
   ]
  },
  {
   "cell_type": "markdown",
   "id": "12fdbd4c",
   "metadata": {},
   "source": [
    "## 3 通过生成随机数的np.random模块创建数组"
   ]
  },
  {
   "cell_type": "markdown",
   "id": "6c552abd",
   "metadata": {},
   "source": [
    "### 1) random.rand(shape): 生成0到1之间的n个随机数"
   ]
  },
  {
   "cell_type": "code",
   "execution_count": 18,
   "id": "91965fd7",
   "metadata": {},
   "outputs": [
    {
     "data": {
      "text/plain": [
       "array([[0.81525436, 0.2852219 , 0.35723896],\n",
       "       [0.45676125, 0.29718321, 0.55591696],\n",
       "       [0.60905642, 0.57178649, 0.92320468],\n",
       "       [0.57127078, 0.57242323, 0.08730803],\n",
       "       [0.68395725, 0.34216568, 0.40585075]])"
      ]
     },
     "execution_count": 18,
     "metadata": {},
     "output_type": "execute_result"
    }
   ],
   "source": [
    "np.random.rand( 5,3)"
   ]
  },
  {
   "cell_type": "markdown",
   "id": "6301502e",
   "metadata": {},
   "source": [
    "### 2) random.randn（shape）返回一个符合标准正态分布的数组（均值0，方差1）"
   ]
  },
  {
   "cell_type": "code",
   "execution_count": 19,
   "id": "357da1af",
   "metadata": {},
   "outputs": [
    {
     "data": {
      "text/plain": [
       "array([[0.14219197, 1.9165309 , 0.79913827],\n",
       "       [1.5521473 , 1.04417803, 1.97933542]])"
      ]
     },
     "execution_count": 19,
     "metadata": {},
     "output_type": "execute_result"
    }
   ],
   "source": [
    "np.random.randn(2,3)               "
   ]
  },
  {
   "cell_type": "markdown",
   "id": "a06d7fef",
   "metadata": {},
   "source": [
    "### 3）random.randint（m,n,size）生成一个给定上下限范围的随机数数组（[m,n)）左闭右开"
   ]
  },
  {
   "cell_type": "code",
   "execution_count": 20,
   "id": "4a2be724",
   "metadata": {},
   "outputs": [
    {
     "data": {
      "text/plain": [
       "array([[[18, 14, 15, 16,  9, 10, 15,  2],\n",
       "        [11,  9,  4, 10, 10, 15, 12,  3],\n",
       "        [19,  5, 19,  1,  1, 18,  1, 17],\n",
       "        [19, 16,  4, 11,  8, 13,  3,  8]],\n",
       "\n",
       "       [[15,  4,  5,  9,  5,  2, 15,  5],\n",
       "        [17, 16,  4, 13,  7, 17, 11, 18],\n",
       "        [17, 10, 10,  7, 11, 16,  8, 11],\n",
       "        [16, 18,  2, 14,  1, 11, 17, 17]]])"
      ]
     },
     "execution_count": 20,
     "metadata": {},
     "output_type": "execute_result"
    }
   ],
   "source": [
    "np.random.randint(1,20,(2,4,8))"
   ]
  },
  {
   "cell_type": "markdown",
   "id": "01cf6e7b",
   "metadata": {},
   "source": [
    "## 实例：对数组加入随机噪声"
   ]
  },
  {
   "cell_type": "code",
   "execution_count": 21,
   "id": "fc249ee6",
   "metadata": {},
   "outputs": [
    {
     "data": {
      "image/png": "[encoded data removed]",
      "text/plain": [
       "<Figure size 432x288 with 1 Axes>"
      ]
     },
     "metadata": {
      "needs_background": "light"
     },
     "output_type": "display_data"
    }
   ],
   "source": [
    "import matplotlib.pyplot as plt\n",
    "import numpy as np\n",
    "# 绘制sin曲线\n",
    "xArr = np.linspace(-10,10,100)\n",
    "yArr = np.sin(xArr)\n",
    "plt.plot(xArr,yArr)\n",
    "plt.show()"
   ]
  },
  {
   "cell_type": "code",
   "execution_count": 22,
   "id": "3e91f212",
   "metadata": {},
   "outputs": [
    {
     "data": {
      "image/png": "[encoded data removed]",
      "text/plain": [
       "<Figure size 432x288 with 1 Axes>"
      ]
     },
     "metadata": {
      "needs_background": "light"
     },
     "output_type": "display_data"
    }
   ],
   "source": [
    "xArr = np.linspace(-10,10,100)\n",
    "yArr = np.sin(xArr) + np.random.rand(100)\n",
    "plt.plot(xArr,yArr)\n",
    "plt.show()"
   ]
  }
 ],
 "metadata": {
  "kernelspec": {
   "display_name": "Python 3 (ipykernel)",
   "language": "python",
   "name": "python3"
  },
  "language_info": {
   "codemirror_mode": {
    "name": "ipython",
    "version": 3
   },
   "file_extension": ".py",
   "mimetype": "text/x-python",
   "name": "python",
   "nbconvert_exporter": "python",
   "pygments_lexer": "ipython3",
   "version": "3.8.11"
  }
 },
 "nbformat": 4,
 "nbformat_minor": 5
}
