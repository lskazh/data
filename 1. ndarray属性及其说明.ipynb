{
 "cells": [
  {
   "cell_type": "markdown",
   "id": "d2901277",
   "metadata": {},
   "source": [
    "## 1. ndarray介绍\n",
    "#### ndarray是存储单一数据类型的多维数组，由两部分构成：  \n",
    "+ 实际的数据  \n",
    "+ 描述这些数据的元数据（数据维度、数据类型等）  "
   ]
  },
  {
   "cell_type": "markdown",
   "id": "321a6498",
   "metadata": {},
   "source": [
    "## 2. ndarray属性及其说明"
   ]
  },
  {
   "cell_type": "markdown",
   "id": "36a9bfd8",
   "metadata": {},
   "source": [
    "### ndim： 返回一个数字，表示array的维数\n",
    "### shape：返回一个元组，表示array的尺寸,对于n行m列的矩阵,形状为(n,m)\n",
    "### size： 一个数字，表示数组中所有数据元素的数目\n",
    "### dtype：数组中元素的数据类型\n",
    "### itemsize: 返回一个数字, 表示数组的每个元素的大小(以字节为单位)"
   ]
  },
  {
   "cell_type": "code",
   "execution_count": 1,
   "id": "6f402350",
   "metadata": {},
   "outputs": [
    {
     "name": "stdout",
     "output_type": "stream",
     "text": [
      "数组:\n",
      " [[ 1  2  3  4  5]\n",
      " [ 6  7  8  9 10]]\n",
      "维数: 2\n",
      "维度: (2, 5)\n",
      "数组类型: int32\n",
      "元素个数: 10\n",
      "每个元素大小: 4 字节\n"
     ]
    }
   ],
   "source": [
    "import numpy as np\n",
    "b = np.array([[1,2,3,4,5],[6,7,8,9,10]])\n",
    "print(\"数组:\\n\", b)\n",
    "print(\"维数:\", b.ndim)\n",
    "print(\"维度:\", b.shape)\n",
    "print(\"数组类型:\", b.dtype)\n",
    "print(\"元素个数:\", b.size)\n",
    "print(\"每个元素大小:\", b.itemsize,\"字节\")"
   ]
  },
  {
   "cell_type": "markdown",
   "id": "5d869979",
   "metadata": {},
   "source": [
    "## len（） 与 size 的区别"
   ]
  },
  {
   "cell_type": "code",
   "execution_count": 2,
   "id": "b67e3d5d",
   "metadata": {},
   "outputs": [
    {
     "data": {
      "text/plain": [
       "2"
      ]
     },
     "execution_count": 2,
     "metadata": {},
     "output_type": "execute_result"
    }
   ],
   "source": [
    "len(b)"
   ]
  },
  {
   "cell_type": "code",
   "execution_count": 3,
   "id": "57c69fea",
   "metadata": {},
   "outputs": [
    {
     "data": {
      "text/plain": [
       "10"
      ]
     },
     "execution_count": 3,
     "metadata": {},
     "output_type": "execute_result"
    }
   ],
   "source": [
    "b.size"
   ]
  }
 ],
 "metadata": {
  "kernelspec": {
   "display_name": "Python 3",
   "language": "python",
   "name": "python3"
  },
  "language_info": {
   "codemirror_mode": {
    "name": "ipython",
    "version": 3
   },
   "file_extension": ".py",
   "mimetype": "text/x-python",
   "name": "python",
   "nbconvert_exporter": "python",
   "pygments_lexer": "ipython3",
   "version": "3.8.8"
  }
 },
 "nbformat": 4,
 "nbformat_minor": 5
}
