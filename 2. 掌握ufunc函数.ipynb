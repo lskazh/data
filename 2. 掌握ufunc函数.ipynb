{
 "cells": [
  {
   "cell_type": "markdown",
   "id": "e9706775",
   "metadata": {},
   "source": [
    "# <center>掌握ufunc函数</center>"
   ]
  },
  {
   "cell_type": "markdown",
   "id": "bc5666ff",
   "metadata": {},
   "source": [
    "# 1. 常用的ufunc函数\n",
    "\n",
    "能够对数组中所有元素进行操作的函数  \n",
    "* 四则运算：加（+）、减（-）、乘（\\*）、除（/）、幂（\\*\\* ）。数组间的四则运算表示对每个数组中的元素分别进行四则运算，所以形状必须相同。\n",
    "* 比较运算：>、<、==、>=、<=、!=。比较运算返回的结果是一个布尔数组，每个元素为每个数组对应元素的比较结果。\n",
    "* 逻辑运算：np.any函数表示逻辑“or”，np.all函数表示逻辑“and”。运算结果返回布尔值。"
   ]
  },
  {
   "cell_type": "markdown",
   "id": "b4096331",
   "metadata": {},
   "source": [
    "### 四则运算"
   ]
  },
  {
   "cell_type": "code",
   "execution_count": 1,
   "id": "6907389b",
   "metadata": {},
   "outputs": [
    {
     "name": "stdout",
     "output_type": "stream",
     "text": [
      "arr1和arr2的相加[32 34 36]\n",
      "arr1和arr2，arr3的连续相加[63 66 69]\n",
      "arr1减arr2[-10 -10 -10]\n",
      "arr1,arr2,arr3的连续相减[-41 -42 -43]\n",
      "arr1和arr2的相乘[231 264 299]\n",
      "arr1和arr2的相除[0.52380952 0.54545455 0.56521739]\n",
      "arr1d的幂运算[14641 20736 28561]\n"
     ]
    }
   ],
   "source": [
    "import numpy as np\n",
    "# 声明3个numpy 数组\n",
    "arr1 = np.array([11, 12, 13])\n",
    "arr2 = np.array([21, 22, 23])\n",
    "arr3 = np.array([31, 32, 33])\n",
    "\n",
    "# numpy 的四则运算， 使用 + - * / **，  可以连续运算， 3个或以上都可以\n",
    "\n",
    "print('arr1和arr2的相加{}'.format(arr1+arr2))\n",
    "print('arr1和arr2，arr3的连续相加{}'.format(arr1+arr2+arr3))\n",
    "\n",
    "print('arr1减arr2{}'.format(arr1-arr2))\n",
    "print('arr1,arr2,arr3的连续相减{}'.format(arr1-arr2-arr3))\n",
    "\n",
    "print('arr1和arr2的相乘{}'.format(arr1*arr2))\n",
    "\n",
    "print('arr1和arr2的相除{}'.format(arr1/arr2))\n",
    "print('arr1d的幂运算{}'.format(arr1**2**2))"
   ]
  },
  {
   "cell_type": "code",
   "execution_count": 2,
   "id": "0ae8a5ec",
   "metadata": {},
   "outputs": [
    {
     "name": "stdout",
     "output_type": "stream",
     "text": [
      "arr1和arr2相加[32 34 36]\n",
      "arr1和arr2相减[-10 -10 -10]\n",
      "arr1和arr2相乘[231 264 299]\n",
      "arr1和arr2相除[0.52380952 0.54545455 0.56521739]\n",
      "arr1d的幂运算[121 144 169]\n"
     ]
    }
   ],
   "source": [
    "# numpy的四则运算，  使用方法 .add  .subtract    .multiply   .divide，  .power不能连续运算， 只能2个\n",
    "\n",
    "print('arr1和arr2相加{}'.format(np.add(arr1, arr2)))\n",
    "print('arr1和arr2相减{}'.format(np.subtract(arr1, arr2)))\n",
    "print('arr1和arr2相乘{}'.format(np.multiply(arr1, arr2)))\n",
    "print('arr1和arr2相除{}'.format(np.divide(arr1, arr2)))\n",
    "print('arr1d的幂运算{}'.format(np.power(arr1,2)))"
   ]
  },
  {
   "cell_type": "markdown",
   "id": "55087027",
   "metadata": {},
   "source": [
    "### 比较运算\n",
    "对两个形状相同的numpy数组进行大于比较得到的结果是一个与数组的形状相同的numpy数组，数组中元素的数据类型为布尔类型"
   ]
  },
  {
   "cell_type": "code",
   "execution_count": 3,
   "id": "2eef3350",
   "metadata": {},
   "outputs": [
    {
     "name": "stdout",
     "output_type": "stream",
     "text": [
      "[False  True False False False]\n",
      "比较结果的数据类型为： <class 'numpy.ndarray'>\n",
      "比较结果中的元素的数据类型为： <class 'numpy.bool_'>\n"
     ]
    }
   ],
   "source": [
    "arr =np.array([1,5,7,2,3])\n",
    "arr2 = np.array([2,3,7,5,9])\n",
    "res =arr>arr2\n",
    "print(res)\n",
    "print(\"比较结果的数据类型为：\",type(res))\n",
    "print(\"比较结果中的元素的数据类型为：\",type(res[0]))"
   ]
  },
  {
   "cell_type": "markdown",
   "id": "923985b3",
   "metadata": {},
   "source": [
    "### 逻辑运算\n",
    "python中有and，or，not三个逻辑运算符，numpy中的逻辑运算使用别的名字来进行逻辑运算。"
   ]
  },
  {
   "cell_type": "code",
   "execution_count": 4,
   "id": "c3a45275",
   "metadata": {},
   "outputs": [
    {
     "name": "stdout",
     "output_type": "stream",
     "text": [
      "a and b= [False False  True]\n",
      "a or b= [ True False  True]\n",
      "a not b= [False  True False]\n",
      "a xor b= [ True  True  True]\n"
     ]
    }
   ],
   "source": [
    "#python中的逻辑运算\n",
    "a = np.array([True, False,True])\n",
    "b = np.array([False, False,True])\n",
    "#与运算\n",
    "print(\"a and b=\",np.logical_and(a,b))\n",
    "#或运算\n",
    "print(\"a or b=\", np.logical_or(a, b))\n",
    "#非运算\n",
    "print(\"a not b=\", np.logical_not(a, b))\n",
    "#异或运算\n",
    "print(\"a xor b=\", np.logical_xor(a, b))"
   ]
  },
  {
   "cell_type": "code",
   "execution_count": 5,
   "id": "49701763",
   "metadata": {},
   "outputs": [
    {
     "name": "stdout",
     "output_type": "stream",
     "text": [
      "arr>arr2： [False  True False False False]\n",
      "any()? True\n",
      "all()? False\n"
     ]
    }
   ],
   "source": [
    "arr =np.array([1,5,7,2,3])\n",
    "arr2 = np.array([2,3,7,5,9])\n",
    "print(\"arr>arr2：\",arr>arr2)\n",
    "print(\"any()?\",np.any(arr>arr2))\n",
    "print(\"all()?\",np.all(arr>arr2))"
   ]
  },
  {
   "cell_type": "markdown",
   "id": "9c44ced4",
   "metadata": {},
   "source": [
    "# 2. ufunc函数的广播机制\n",
    "\n",
    "***广播：***  \n",
    "简单理解为用于不同大小数组的二元通用函数（加、减、乘等）的一组规则\n",
    "\n",
    "***广播的规则：***\n",
    "* 让所有输入数组都向其中shape最长的数组看齐，shape中不足的部分都通过在前面加1补齐。\n",
    "* 输出数组的shape是输入数组shape的各个轴上的最大值。\n",
    "* 如果输入数组的某个轴和输出数组的对应轴的长度相同或者其长度为1时，这个数组能够用来计算，否则出错。\n",
    "* 当输入数组的某个轴的长度为1时，沿着此轴运算时都用此轴上的第一组值。"
   ]
  },
  {
   "cell_type": "markdown",
   "id": "9b682277",
   "metadata": {},
   "source": [
    "### 实例1：二维数组加一维数组"
   ]
  },
  {
   "cell_type": "code",
   "execution_count": 6,
   "id": "1624d14c",
   "metadata": {},
   "outputs": [
    {
     "data": {
      "text/plain": [
       "array([[1., 1., 1.],\n",
       "       [1., 1., 1.]])"
      ]
     },
     "execution_count": 6,
     "metadata": {},
     "output_type": "execute_result"
    }
   ],
   "source": [
    "a = np.ones((2,3))\n",
    "a"
   ]
  },
  {
   "cell_type": "code",
   "execution_count": 11,
   "id": "14828a35",
   "metadata": {},
   "outputs": [
    {
     "data": {
      "text/plain": [
       "array([[0, 1, 2],\n",
       "       [0, 1, 2]])"
      ]
     },
     "execution_count": 11,
     "metadata": {},
     "output_type": "execute_result"
    }
   ],
   "source": [
    "b = np.array([[0, 1, 2],[0, 1, 2]])\n",
    "b"
   ]
  },
  {
   "cell_type": "code",
   "execution_count": 8,
   "id": "aad68834",
   "metadata": {},
   "outputs": [
    {
     "data": {
      "text/plain": [
       "((2, 3), (3,))"
      ]
     },
     "execution_count": 8,
     "metadata": {},
     "output_type": "execute_result"
    }
   ],
   "source": [
    "a.shape, b.shape"
   ]
  },
  {
   "cell_type": "code",
   "execution_count": 12,
   "id": "71ae46c2",
   "metadata": {},
   "outputs": [
    {
     "data": {
      "text/plain": [
       "array([[1., 2., 3.],\n",
       "       [1., 2., 3.]])"
      ]
     },
     "execution_count": 12,
     "metadata": {},
     "output_type": "execute_result"
    }
   ],
   "source": [
    "# 形状不匹配但是可以相加\n",
    "a + b"
   ]
  },
  {
   "cell_type": "markdown",
   "id": "f4ded849",
   "metadata": {},
   "source": [
    "***分析：a.shape=(2, 3), b.shape=(3,)***\n",
    "1. 根据规则1，b.shape会变成(1, 3)\n",
    "2. 根据规则4，使用此轴上的第一组值，相当于在行上复制，b.shape再变成(2, 3)，\n",
    "3. 完成匹配"
   ]
  },
  {
   "cell_type": "markdown",
   "id": "6d2ee434",
   "metadata": {},
   "source": [
    "### 实例2：两个数组均需要广播"
   ]
  },
  {
   "cell_type": "code",
   "execution_count": 13,
   "id": "f49dd232",
   "metadata": {
    "scrolled": true
   },
   "outputs": [
    {
     "data": {
      "text/plain": [
       "array([[0],\n",
       "       [1],\n",
       "       [2]])"
      ]
     },
     "execution_count": 13,
     "metadata": {},
     "output_type": "execute_result"
    }
   ],
   "source": [
    "a = np.arange(3).reshape((3, 1))\n",
    "a"
   ]
  },
  {
   "cell_type": "code",
   "execution_count": 14,
   "id": "895d2c05",
   "metadata": {},
   "outputs": [
    {
     "data": {
      "text/plain": [
       "array([0, 1, 2])"
      ]
     },
     "execution_count": 14,
     "metadata": {},
     "output_type": "execute_result"
    }
   ],
   "source": [
    "b = np.arange(3)\n",
    "b"
   ]
  },
  {
   "cell_type": "code",
   "execution_count": 15,
   "id": "8593f312",
   "metadata": {},
   "outputs": [
    {
     "data": {
      "text/plain": [
       "((3, 1), (3,))"
      ]
     },
     "execution_count": 15,
     "metadata": {},
     "output_type": "execute_result"
    }
   ],
   "source": [
    "a.shape, b.shape"
   ]
  },
  {
   "cell_type": "code",
   "execution_count": 16,
   "id": "faeb7aef",
   "metadata": {
    "scrolled": true
   },
   "outputs": [
    {
     "data": {
      "text/plain": [
       "array([[0, 1, 2],\n",
       "       [1, 2, 3],\n",
       "       [2, 3, 4]])"
      ]
     },
     "execution_count": 16,
     "metadata": {},
     "output_type": "execute_result"
    }
   ],
   "source": [
    "a + b"
   ]
  },
  {
   "cell_type": "code",
   "execution_count": 19,
   "id": "d87b21b9",
   "metadata": {},
   "outputs": [
    {
     "data": {
      "text/plain": [
       "array([[0, 0, 0],\n",
       "       [1, 1, 1],\n",
       "       [2, 2, 2]])"
      ]
     },
     "execution_count": 19,
     "metadata": {},
     "output_type": "execute_result"
    }
   ],
   "source": [
    "a = np.array([[0,0,0],[1,1,1],[2,2,2]])\n",
    "a"
   ]
  },
  {
   "cell_type": "code",
   "execution_count": 20,
   "id": "568cee42",
   "metadata": {},
   "outputs": [
    {
     "data": {
      "text/plain": [
       "array([[0, 1, 2],\n",
       "       [0, 1, 2],\n",
       "       [0, 1, 2]])"
      ]
     },
     "execution_count": 20,
     "metadata": {},
     "output_type": "execute_result"
    }
   ],
   "source": [
    "b = np.array([[0, 1, 2],[0, 1, 2],[0, 1, 2]])\n",
    "b"
   ]
  },
  {
   "cell_type": "code",
   "execution_count": 21,
   "id": "779cf2ff",
   "metadata": {},
   "outputs": [
    {
     "data": {
      "text/plain": [
       "array([[0, 1, 2],\n",
       "       [1, 2, 3],\n",
       "       [2, 3, 4]])"
      ]
     },
     "execution_count": 21,
     "metadata": {},
     "output_type": "execute_result"
    }
   ],
   "source": [
    "a+b"
   ]
  },
  {
   "cell_type": "markdown",
   "id": "8a9fd95f",
   "metadata": {},
   "source": [
    "***分析：a.shape为(3,1)，b.shape为(3,)***：\n",
    "1. 根据规则1，b.shape会变成(1, 3)\n",
    "2. 根据规则4，b.shape再变成(3, 3)，相当于在行上复制\n",
    "3. 根据规则4，a.shape再变成(3, 3)，相当于在列上复制\n",
    "3. 完成匹配"
   ]
  },
  {
   "cell_type": "code",
   "execution_count": null,
   "id": "94810912",
   "metadata": {},
   "outputs": [],
   "source": [
    "print('a:\\n',np.array([[0,0,0],[1,1,1],[2,2,2]]))\n",
    "print('b:\\n',np.array([[0, 1, 2],[0, 1, 2],[0, 1, 2]]))\n",
    "np.array([[0,0,0],[1,1,1],[2,2,2]]) + np.array([[0, 1, 2],[0, 1, 2],[0, 1, 2]])"
   ]
  },
  {
   "cell_type": "markdown",
   "id": "d964efa3",
   "metadata": {},
   "source": [
    "### 实例3：不匹配的例子"
   ]
  },
  {
   "cell_type": "code",
   "execution_count": 22,
   "id": "77053aca",
   "metadata": {},
   "outputs": [
    {
     "data": {
      "text/plain": [
       "array([[1., 1.],\n",
       "       [1., 1.],\n",
       "       [1., 1.]])"
      ]
     },
     "execution_count": 22,
     "metadata": {},
     "output_type": "execute_result"
    }
   ],
   "source": [
    "a = np.ones((3,2))\n",
    "a"
   ]
  },
  {
   "cell_type": "code",
   "execution_count": 23,
   "id": "826e01d6",
   "metadata": {},
   "outputs": [
    {
     "data": {
      "text/plain": [
       "array([0, 1, 2])"
      ]
     },
     "execution_count": 23,
     "metadata": {},
     "output_type": "execute_result"
    }
   ],
   "source": [
    "b = np.arange(3)\n",
    "b"
   ]
  },
  {
   "cell_type": "code",
   "execution_count": 24,
   "id": "d942fc73",
   "metadata": {},
   "outputs": [
    {
     "data": {
      "text/plain": [
       "((3, 2), (3,))"
      ]
     },
     "execution_count": 24,
     "metadata": {},
     "output_type": "execute_result"
    }
   ],
   "source": [
    "a.shape, b.shape\n"
   ]
  },
  {
   "cell_type": "code",
   "execution_count": 25,
   "id": "d134bf59",
   "metadata": {},
   "outputs": [
    {
     "ename": "ValueError",
     "evalue": "operands could not be broadcast together with shapes (3,2) (3,) ",
     "output_type": "error",
     "traceback": [
      "\u001b[1;31m---------------------------------------------------------------------------\u001b[0m",
      "\u001b[1;31mValueError\u001b[0m                                Traceback (most recent call last)",
      "\u001b[1;32m~\\AppData\\Local\\Temp/ipykernel_5704/1216668022.py\u001b[0m in \u001b[0;36m<module>\u001b[1;34m\u001b[0m\n\u001b[1;32m----> 1\u001b[1;33m \u001b[0ma\u001b[0m \u001b[1;33m+\u001b[0m \u001b[0mb\u001b[0m\u001b[1;33m\u001b[0m\u001b[1;33m\u001b[0m\u001b[0m\n\u001b[0m",
      "\u001b[1;31mValueError\u001b[0m: operands could not be broadcast together with shapes (3,2) (3,) "
     ]
    }
   ],
   "source": [
    "a + b"
   ]
  },
  {
   "cell_type": "markdown",
   "id": "0e09f526",
   "metadata": {},
   "source": [
    "***分析：a.shape为(3,2)，b.shape为(3,)***：\n",
    "1. 根据规则1，b.shape会变成(1, 3)\n",
    "2. 根据规则4，b.shape再变成(3, 3)，相当于在行上复制\n",
    "3. 根据规则3，a.shape为(3,2)，b.shape为(3,3)，形状不匹配，并且没有维度是1，匹配失败报错"
   ]
  }
 ],
 "metadata": {
  "kernelspec": {
   "display_name": "Python 3 (ipykernel)",
   "language": "python",
   "name": "python3"
  },
  "language_info": {
   "codemirror_mode": {
    "name": "ipython",
    "version": 3
   },
   "file_extension": ".py",
   "mimetype": "text/x-python",
   "name": "python",
   "nbconvert_exporter": "python",
   "pygments_lexer": "ipython3",
   "version": "3.8.11"
  }
 },
 "nbformat": 4,
 "nbformat_minor": 5
}
