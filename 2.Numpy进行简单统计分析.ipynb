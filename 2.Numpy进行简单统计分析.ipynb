{
 "cells": [
  {
   "cell_type": "markdown",
   "id": "57f1caf9",
   "metadata": {},
   "source": [
    "# <center>2. Numpy进行简单统计分析</center>"
   ]
  },
  {
   "cell_type": "markdown",
   "id": "f38e2b5d",
   "metadata": {},
   "source": [
    "1. 排序\n",
    "2. 去重和重复数据\n",
    "3. 常用的统计函数"
   ]
  },
  {
   "cell_type": "markdown",
   "id": "b5768020",
   "metadata": {},
   "source": [
    "# 1. 排序\n",
    "* 直接排序\n",
    "    * sort 按值大小排序\n",
    "* 间接排序\n",
    "    * argsort 排序，返回的时从小到大的元素的索引\n",
    "    * lexsort 对于多个序列进行排序，返回索引"
   ]
  },
  {
   "cell_type": "markdown",
   "id": "7ac2097d",
   "metadata": {},
   "source": [
    "### 1. sort  按值大小排序  \n",
    "ndarray.sort(axis=-1, kind='quicksort', order=None)\n",
    "* axis:\t排序沿数组的（轴）方向，0表示按行，1表示按列，None表示展开来排序，默认值为-1，表示沿最后的轴排序\n",
    "* kind:\t排序的算法，提供了快排'quicksort'、混排'mergesort'、堆排'heapsort'， 默认为‘quicksort'\n",
    "* order:\t排序的字段名，可指定字段排序，默认为None"
   ]
  },
  {
   "cell_type": "code",
   "execution_count": 1,
   "id": "cc9e6aef",
   "metadata": {
    "scrolled": true
   },
   "outputs": [
    {
     "name": "stdout",
     "output_type": "stream",
     "text": [
      "[[ 0 12 48]\n",
      " [ 4 14 18]\n",
      " [ 1  7 99]]\n"
     ]
    },
    {
     "data": {
      "text/plain": [
       "array([[ 0, 12, 48],\n",
       "       [ 4, 18, 14],\n",
       "       [ 7,  1, 99]])"
      ]
     },
     "execution_count": 1,
     "metadata": {},
     "output_type": "execute_result"
    }
   ],
   "source": [
    "import numpy as np\n",
    "x=np.array([[0,12,48],[4,18,14],[7,1,99]])\n",
    " \n",
    "print(np.sort(x))\n",
    "x"
   ]
  },
  {
   "cell_type": "code",
   "execution_count": 2,
   "id": "85acdcd3",
   "metadata": {},
   "outputs": [
    {
     "data": {
      "text/plain": [
       "array([[ 0, 12, 48],\n",
       "       [ 4, 14, 18],\n",
       "       [ 1,  7, 99]])"
      ]
     },
     "execution_count": 2,
     "metadata": {},
     "output_type": "execute_result"
    }
   ],
   "source": [
    "import numpy as np\n",
    "x= np.array([[0,12,48],[4,18,14],[7,1,99]])\n",
    " \n",
    "x.sort() # 原始数据会被修改\n",
    "x"
   ]
  },
  {
   "cell_type": "code",
   "execution_count": 3,
   "id": "62f67b81",
   "metadata": {
    "scrolled": true
   },
   "outputs": [
    {
     "data": {
      "text/plain": [
       "array([[ 0,  7, 18],\n",
       "       [ 1, 12, 48],\n",
       "       [ 4, 14, 99]])"
      ]
     },
     "execution_count": 3,
     "metadata": {},
     "output_type": "execute_result"
    }
   ],
   "source": [
    "# 按列排序\n",
    "np.sort(x,axis=0)"
   ]
  },
  {
   "cell_type": "code",
   "execution_count": 4,
   "id": "4d65771b",
   "metadata": {},
   "outputs": [
    {
     "data": {
      "text/plain": [
       "array([(b'Bob', 17), (b'Jane', 27), (b'Mike', 21), (b'Nancy', 25)],\n",
       "      dtype=[('name', 'S10'), ('age', '<i4')])"
      ]
     },
     "execution_count": 4,
     "metadata": {},
     "output_type": "execute_result"
    }
   ],
   "source": [
    "# order 主要用于自定义数据结构\n",
    "dt = np.dtype([('name',  'S10'),('age',  int)]) \n",
    "a = np.array([(\"Mike\",21),(\"Nancy\",25),(\"Bob\",  17),  (\"Jane\",27)], dtype = dt)\n",
    "np.sort(a, order =  'name')"
   ]
  },
  {
   "cell_type": "code",
   "execution_count": 5,
   "id": "6b378808",
   "metadata": {},
   "outputs": [
    {
     "data": {
      "text/plain": [
       "array([(b'Bob', 17), (b'Mike', 21), (b'Nancy', 25), (b'Jane', 27)],\n",
       "      dtype=[('name', 'S10'), ('age', '<i4')])"
      ]
     },
     "execution_count": 5,
     "metadata": {},
     "output_type": "execute_result"
    }
   ],
   "source": [
    "np.sort(a, order =  'age')"
   ]
  },
  {
   "cell_type": "markdown",
   "id": "8264fa9d",
   "metadata": {},
   "source": [
    "### 2. argsort 多个键排序\n",
    "np.argsort(axis, kind=None, order=None) 对数组沿给定轴执行间接排序，并使用指定排序类型返回数据的索引数组。"
   ]
  },
  {
   "cell_type": "code",
   "execution_count": 6,
   "id": "b0dc5642",
   "metadata": {},
   "outputs": [
    {
     "data": {
      "text/plain": [
       "array([0, 3, 2, 1, 4, 5], dtype=int64)"
      ]
     },
     "execution_count": 6,
     "metadata": {},
     "output_type": "execute_result"
    }
   ],
   "source": [
    "# 一维数组\n",
    "x=np.array([-1,4,3,-1,6,9])\n",
    "# 将x中的元素从小到大排列，返回其对应的index(索引)\n",
    "np.argsort(x)"
   ]
  },
  {
   "cell_type": "code",
   "execution_count": 7,
   "id": "ed29f310",
   "metadata": {},
   "outputs": [
    {
     "data": {
      "text/plain": [
       "array([[0, 1, 2],\n",
       "       [0, 2, 1],\n",
       "       [1, 0, 2]], dtype=int64)"
      ]
     },
     "execution_count": 7,
     "metadata": {},
     "output_type": "execute_result"
    }
   ],
   "source": [
    "# 二维数组\n",
    "x=np.array([[0,12,48],[4,18,14],[7,1,99]])\n",
    "# 按行排序\n",
    "np.argsort(x, axis=1)"
   ]
  },
  {
   "cell_type": "code",
   "execution_count": 8,
   "id": "ea3005ca",
   "metadata": {},
   "outputs": [
    {
     "data": {
      "text/plain": [
       "array([[0, 2, 1],\n",
       "       [1, 0, 0],\n",
       "       [2, 1, 2]], dtype=int64)"
      ]
     },
     "execution_count": 8,
     "metadata": {},
     "output_type": "execute_result"
    }
   ],
   "source": [
    "# 按列排序\n",
    "np.argsort(x, axis=0)"
   ]
  },
  {
   "cell_type": "markdown",
   "id": "a7277d1d",
   "metadata": {},
   "source": [
    "### 3. lexsort\n",
    "lexsort(keys, axis=-1) 函数可对于多个序列进行排序，不修改原数组"
   ]
  },
  {
   "cell_type": "code",
   "execution_count": 9,
   "id": "a785cbd7",
   "metadata": {},
   "outputs": [
    {
     "data": {
      "text/plain": [
       "array([2, 0, 4, 6, 5, 3, 1], dtype=int64)"
      ]
     },
     "execution_count": 9,
     "metadata": {},
     "output_type": "execute_result"
    }
   ],
   "source": [
    "a=np.array([1,5,1,4,3,4,4])\n",
    "b=np.array([9,4,0,4,0,2,1])\n",
    "# 将长度相同的a，b组合，向根据a值的大小进行排序，再考虑b值\n",
    "ind=np.lexsort((b,a))\n",
    "ind"
   ]
  },
  {
   "cell_type": "code",
   "execution_count": 10,
   "id": "11f1ccde",
   "metadata": {},
   "outputs": [
    {
     "data": {
      "text/plain": [
       "[(1, 0), (1, 9), (3, 0), (4, 1), (4, 2), (4, 4), (5, 4)]"
      ]
     },
     "execution_count": 10,
     "metadata": {},
     "output_type": "execute_result"
    }
   ],
   "source": [
    "list(zip(a[ind],b[ind]))"
   ]
  },
  {
   "cell_type": "markdown",
   "id": "a2e8833b",
   "metadata": {},
   "source": [
    "## 2. 去重与重复数据\n"
   ]
  },
  {
   "cell_type": "markdown",
   "id": "c3c20ff0",
   "metadata": {},
   "source": [
    "* unique \n",
    "* tie\n",
    "* repeat"
   ]
  },
  {
   "cell_type": "markdown",
   "id": "b3121c6c",
   "metadata": {},
   "source": [
    "### 1. unique\n",
    " numpy.unique(arr) 函数可以找出数组中的唯一值并返回已排序的结果"
   ]
  },
  {
   "cell_type": "code",
   "execution_count": 11,
   "id": "7b804764",
   "metadata": {},
   "outputs": [
    {
     "data": {
      "text/plain": [
       "array([1, 2, 3])"
      ]
     },
     "execution_count": 11,
     "metadata": {},
     "output_type": "execute_result"
    }
   ],
   "source": [
    "arr = np.array([1,1,1,2,2,3,3,])\n",
    "res = np.unique(arr)\n",
    "res"
   ]
  },
  {
   "cell_type": "code",
   "execution_count": 34,
   "id": "8871fa79",
   "metadata": {},
   "outputs": [
    {
     "data": {
      "text/plain": [
       "((array([1, 2, 3]), array([3, 2, 2], dtype=int64)),\n",
       " array([3, 2, 2], dtype=int64))"
      ]
     },
     "execution_count": 34,
     "metadata": {},
     "output_type": "execute_result"
    }
   ],
   "source": [
    "arr = np.array([1,1,1,2,2,3,3,])\n",
    "\n",
    "res_unique,res_counts = np.unique(arr,return_counts = True)\n",
    "res,res_counts"
   ]
  },
  {
   "cell_type": "markdown",
   "id": "a61c913a",
   "metadata": {},
   "source": [
    "### 2. tile\n",
    "np.tile(A，reps)\n",
    "* A:指定重复的数组\n",
    "* reps:指定重复的次数数"
   ]
  },
  {
   "cell_type": "code",
   "execution_count": 13,
   "id": "24969f6a",
   "metadata": {},
   "outputs": [
    {
     "name": "stdout",
     "output_type": "stream",
     "text": [
      "[0 1 2 3 4]\n"
     ]
    },
    {
     "data": {
      "text/plain": [
       "array([0, 1, 2, 3, 4, 0, 1, 2, 3, 4, 0, 1, 2, 3, 4])"
      ]
     },
     "execution_count": 13,
     "metadata": {},
     "output_type": "execute_result"
    }
   ],
   "source": [
    "arr1 = np.arange(5)\n",
    "print(arr1)\n",
    "arr2 = np.tile(arr1,3)\n",
    "arr2"
   ]
  },
  {
   "cell_type": "code",
   "execution_count": 14,
   "id": "4061a2a8",
   "metadata": {},
   "outputs": [
    {
     "name": "stdout",
     "output_type": "stream",
     "text": [
      "[[0]\n",
      " [1]\n",
      " [2]\n",
      " [3]\n",
      " [4]]\n"
     ]
    },
    {
     "data": {
      "text/plain": [
       "array([[0, 0, 0],\n",
       "       [1, 1, 1],\n",
       "       [2, 2, 2],\n",
       "       [3, 3, 3],\n",
       "       [4, 4, 4]])"
      ]
     },
     "execution_count": 14,
     "metadata": {},
     "output_type": "execute_result"
    }
   ],
   "source": [
    "arr1 = np.arange(5).reshape((5,1))\n",
    "print(arr1)\n",
    "arr2 = np.tile(arr1,3)\n",
    "arr2"
   ]
  },
  {
   "cell_type": "markdown",
   "id": "e14205a6",
   "metadata": {},
   "source": [
    "###  3.repeat\n",
    "numpy.repeat(a, repeats, axis=None) 重复\n",
    "* a：须要重复的数组元素\n",
    "* repeats：重复次数 \n",
    "* axis：指定沿着哪一个轴进行重复，axis = 0 表示按行进行元素重复；axis =1 表示按列进行元素重复。"
   ]
  },
  {
   "cell_type": "code",
   "execution_count": 15,
   "id": "4da5da04",
   "metadata": {},
   "outputs": [
    {
     "name": "stdout",
     "output_type": "stream",
     "text": [
      "arr2:\n",
      " [[6 5 9]\n",
      " [8 2 6]\n",
      " [3 1 1]]\n"
     ]
    }
   ],
   "source": [
    "arr2 = np.random.randint(0,10,size=(3,3))\n",
    "print('arr2:\\n',arr2)"
   ]
  },
  {
   "cell_type": "code",
   "execution_count": 16,
   "id": "57c2f5b1",
   "metadata": {},
   "outputs": [
    {
     "name": "stdout",
     "output_type": "stream",
     "text": [
      "按行进行重复 [[6 5 9]\n",
      " [6 5 9]\n",
      " [8 2 6]\n",
      " [8 2 6]\n",
      " [3 1 1]\n",
      " [3 1 1]]\n"
     ]
    }
   ],
   "source": [
    "arr2_2 = np.repeat(arr2,2,axis=0)\n",
    "print('按行进行重复',arr2_2)"
   ]
  },
  {
   "cell_type": "code",
   "execution_count": 17,
   "id": "94b384f6",
   "metadata": {},
   "outputs": [
    {
     "name": "stdout",
     "output_type": "stream",
     "text": [
      "按行进行重复 [[6 6 5 5 9 9]\n",
      " [8 8 2 2 6 6]\n",
      " [3 3 1 1 1 1]]\n"
     ]
    }
   ],
   "source": [
    "arr2_2 = np.repeat(arr2,2,axis=1)\n",
    "print('按行进行重复',arr2_2)"
   ]
  },
  {
   "cell_type": "markdown",
   "id": "07910d29",
   "metadata": {},
   "source": [
    "### repeat和tile两个函数都可以对数组进行“重复”区别在于：\n",
    "* tile函数是将数组进行重复，repeat函数是对数组中的每一个元素进行重复"
   ]
  },
  {
   "cell_type": "markdown",
   "id": "32e1a7d3",
   "metadata": {},
   "source": [
    "# 2. 常用的统计函数"
   ]
  },
  {
   "cell_type": "markdown",
   "id": "6bd2372f",
   "metadata": {},
   "source": [
    "1. 求和函数 numpy.sum(a, axis=None)------a.sum(axis=None)\n",
    "\n",
    "2. 求均值 numpy.mean(a, axis=None)-----a.mean(axis=None)\n",
    "\n",
    "3. 加权平均值numpy.average(a,axis=None,weights=None)\n",
    "\n",
    "4. 标准差numpy.std(a,axis=None)-------a.std(axis=None)\n",
    "\n",
    "5. 方差numpy.var(a,axis=None)--------a.var(axis=None)\n",
    "\n",
    "6. 最小值/最大值 numpy.amin(a,axis=None)/numpy.max(a,axis=None)-------a.min(axis=None)/a.max(axis=None)\n",
    "\n",
    "7. 最小值索引一维下标numpy.argmin(a,axis=None)---------a.argmin(axis=None)\n",
    "\n",
    "8. 最大值索引numpy.argmax(a,axis=None)---------a.argmax(axis=None)\n",
    "\n",
    "9. 中位数numpy.median(a,axis=None)\n",
    "\n",
    "10. 百分位数numpy.percentile(a, q, axis=None)"
   ]
  },
  {
   "cell_type": "markdown",
   "id": "7fb14b1b",
   "metadata": {},
   "source": [
    "### 案例：分析学生成绩\n"
   ]
  },
  {
   "cell_type": "code",
   "execution_count": 18,
   "id": "671cc469",
   "metadata": {},
   "outputs": [
    {
     "data": {
      "text/plain": [
       "array([[ 76.,  59., 100.,  78.,  71.],\n",
       "       [ 75.,  94.,  83.,  63.,  65.],\n",
       "       [ 83.,  76.,  92.,  73.,  82.],\n",
       "       ...,\n",
       "       [ 67.,  56.,  83.,  78.,  57.],\n",
       "       [ 81.,  94.,  99.,  64.,  88.],\n",
       "       [ 78.,  79.,  88.,  60.,  71.]])"
      ]
     },
     "execution_count": 18,
     "metadata": {},
     "output_type": "execute_result"
    }
   ],
   "source": [
    "fileName='../data/stu.txt'\n",
    "dataArr = data_array=np.loadtxt(fileName,  skiprows=1,  dtype=float)       \n",
    "dataArr                     "
   ]
  },
  {
   "cell_type": "code",
   "execution_count": 19,
   "id": "7e98db3d",
   "metadata": {},
   "outputs": [
    {
     "data": {
      "text/plain": [
       "(1380, 5)"
      ]
     },
     "execution_count": 19,
     "metadata": {},
     "output_type": "execute_result"
    }
   ],
   "source": [
    "dataArr.shape"
   ]
  },
  {
   "cell_type": "code",
   "execution_count": 20,
   "id": "469aa90c",
   "metadata": {},
   "outputs": [
    {
     "data": {
      "text/plain": [
       "array([[ 76.,  59., 100.,  78.,  71.],\n",
       "       [ 75.,  94.,  83.,  63.,  65.],\n",
       "       [ 83.,  76.,  92.,  73.,  82.],\n",
       "       [ 64.,  81., 100.,  70.,  78.],\n",
       "       [ 63.,  76.,  98.,  64.,  53.],\n",
       "       [ 71.,  81.,  87.,  65.,  48.],\n",
       "       [ 77.,  77.,  79.,  79.,  84.],\n",
       "       [ 67.,  60.,  87.,  60.,  45.],\n",
       "       [ 74.,  91.,  94.,  60.,  95.],\n",
       "       [ 69.,  98.,  92.,  67.,  83.]])"
      ]
     },
     "execution_count": 20,
     "metadata": {},
     "output_type": "execute_result"
    }
   ],
   "source": [
    "tempData = dataArr[0:10]\n",
    "tempData"
   ]
  },
  {
   "cell_type": "code",
   "execution_count": 21,
   "id": "3067cddd",
   "metadata": {},
   "outputs": [
    {
     "data": {
      "text/plain": [
       "array([384., 380., 406., 393., 354., 352., 396., 319., 414., 409.])"
      ]
     },
     "execution_count": 21,
     "metadata": {},
     "output_type": "execute_result"
    }
   ],
   "source": [
    "# 计算总分\n",
    "sumArr = np.sum(tempData,axis=1)\n",
    "sumArr"
   ]
  },
  {
   "cell_type": "code",
   "execution_count": 22,
   "id": "c37f8ef6",
   "metadata": {},
   "outputs": [
    {
     "data": {
      "text/plain": [
       "array([719., 793., 912., 679., 704.])"
      ]
     },
     "execution_count": 22,
     "metadata": {},
     "output_type": "execute_result"
    }
   ],
   "source": [
    "sumArr = np.sum(tempData,axis=0)\n",
    "sumArr"
   ]
  },
  {
   "cell_type": "code",
   "execution_count": 23,
   "id": "967c4716",
   "metadata": {},
   "outputs": [
    {
     "data": {
      "text/plain": [
       "array([76.8, 76. , 81.2, 78.6, 70.8, 70.4, 79.2, 63.8, 82.8, 81.8])"
      ]
     },
     "execution_count": 23,
     "metadata": {},
     "output_type": "execute_result"
    }
   ],
   "source": [
    "# 计算平均分\n",
    "meanRowArr = np.mean(tempData,axis = 1 )\n",
    "meanRowArr"
   ]
  },
  {
   "cell_type": "code",
   "execution_count": 24,
   "id": "abdb1f5e",
   "metadata": {},
   "outputs": [
    {
     "data": {
      "text/plain": [
       "array([71.9, 79.3, 91.2, 67.9, 70.4])"
      ]
     },
     "execution_count": 24,
     "metadata": {},
     "output_type": "execute_result"
    }
   ],
   "source": [
    "#计算科目平均分\n",
    "meanColArr = np.mean(tempData,axis = 0 )\n",
    "meanColArr"
   ]
  },
  {
   "cell_type": "code",
   "execution_count": 25,
   "id": "cec302f0",
   "metadata": {},
   "outputs": [
    {
     "data": {
      "text/plain": [
       "array([13.34765897, 11.52388823,  6.55438784, 12.25724276, 15.43243338,\n",
       "       13.55876101,  2.56124969, 13.64404632, 13.70255451, 12.25397895])"
      ]
     },
     "execution_count": 25,
     "metadata": {},
     "output_type": "execute_result"
    }
   ],
   "source": [
    "# 计算方差\n",
    "stdRowArr = np.std(tempData,axis=1)\n",
    "stdRowArr"
   ]
  },
  {
   "cell_type": "code",
   "execution_count": 26,
   "id": "04311745",
   "metadata": {},
   "outputs": [
    {
     "data": {
      "text/plain": [
       "array([76., 77., 89., 70., 70.])"
      ]
     },
     "execution_count": 26,
     "metadata": {},
     "output_type": "execute_result"
    }
   ],
   "source": [
    "# 查看科目中位数\n",
    "np.median(dataArr,axis = 0)"
   ]
  },
  {
   "cell_type": "code",
   "execution_count": 27,
   "id": "f854d2c1",
   "metadata": {},
   "outputs": [
    {
     "data": {
      "text/plain": [
       "array([ 89., 100., 100.,  80., 100.])"
      ]
     },
     "execution_count": 27,
     "metadata": {},
     "output_type": "execute_result"
    }
   ],
   "source": [
    "# 查看科目最高分\n",
    "np.amax(dataArr,axis=0)"
   ]
  },
  {
   "cell_type": "code",
   "execution_count": 28,
   "id": "6dbb0d67",
   "metadata": {},
   "outputs": [
    {
     "data": {
      "text/plain": [
       "array([63., 55., 78., 60., 40.])"
      ]
     },
     "execution_count": 28,
     "metadata": {},
     "output_type": "execute_result"
    }
   ],
   "source": [
    "# 查看科目最低分\n",
    "np.amin(dataArr,axis=0)"
   ]
  },
  {
   "cell_type": "code",
   "execution_count": 29,
   "id": "d35261d3",
   "metadata": {
    "scrolled": true
   },
   "outputs": [
    {
     "data": {
      "text/plain": [
       "433"
      ]
     },
     "execution_count": 29,
     "metadata": {},
     "output_type": "execute_result"
    }
   ],
   "source": [
    "# 统计数学大于80分的个数\n",
    "np.sum(dataArr[:,0]>80)"
   ]
  },
  {
   "cell_type": "markdown",
   "id": "cd362080",
   "metadata": {},
   "source": [
    "### 上述的计算称之为聚合计算  \n",
    "聚合计算概念：对一组值执行计算并返回单一的值"
   ]
  },
  {
   "cell_type": "markdown",
   "id": "55d1d789",
   "metadata": {},
   "source": [
    "### 非聚合计算 ：产生一个由中间结果组成的数组\n",
    "* cumsum： 计算所有元素的累计和\n",
    "* cumprod：计算所有元素的累计积"
   ]
  },
  {
   "cell_type": "code",
   "execution_count": 30,
   "id": "e90a6157",
   "metadata": {},
   "outputs": [
    {
     "data": {
      "text/plain": [
       "array([ 1,  2,  3,  4,  5,  6,  7,  8,  9, 10])"
      ]
     },
     "execution_count": 30,
     "metadata": {},
     "output_type": "execute_result"
    }
   ],
   "source": [
    "arr = np.arange(1,11)\n",
    "arr"
   ]
  },
  {
   "cell_type": "code",
   "execution_count": 31,
   "id": "923891be",
   "metadata": {},
   "outputs": [
    {
     "data": {
      "text/plain": [
       "array([ 1,  3,  6, 10, 15, 21, 28, 36, 45, 55], dtype=int32)"
      ]
     },
     "execution_count": 31,
     "metadata": {},
     "output_type": "execute_result"
    }
   ],
   "source": [
    "# 计算所有元素的累计和\n",
    "np.cumsum(arr)"
   ]
  },
  {
   "cell_type": "code",
   "execution_count": 32,
   "id": "a024d9cd",
   "metadata": {},
   "outputs": [
    {
     "data": {
      "text/plain": [
       "array([      1,       2,       6,      24,     120,     720,    5040,\n",
       "         40320,  362880, 3628800], dtype=int32)"
      ]
     },
     "execution_count": 32,
     "metadata": {},
     "output_type": "execute_result"
    }
   ],
   "source": [
    "# 计算所有元素的累计积\n",
    "np.cumprod(arr)"
   ]
  }
 ],
 "metadata": {
  "kernelspec": {
   "display_name": "Python 3 (ipykernel)",
   "language": "python",
   "name": "python3"
  },
  "language_info": {
   "codemirror_mode": {
    "name": "ipython",
    "version": 3
   },
   "file_extension": ".py",
   "mimetype": "text/x-python",
   "name": "python",
   "nbconvert_exporter": "python",
   "pygments_lexer": "ipython3",
   "version": "3.8.11"
  }
 },
 "nbformat": 4,
 "nbformat_minor": 5
}
