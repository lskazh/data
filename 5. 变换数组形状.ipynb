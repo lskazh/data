{
 "cells": [
  {
   "cell_type": "markdown",
   "id": "63f8be6c",
   "metadata": {},
   "source": [
    "# <center>变换数组形态</center>"
   ]
  },
  {
   "cell_type": "markdown",
   "id": "3c927561",
   "metadata": {},
   "source": [
    "* 改形\n",
    "    * reshape:在不改变数据的情况下为数组赋予新的形状\n",
    "    * resize: 改变自身数组的形态\n",
    "* 展平\n",
    "    * ravel：将多维数组变一维数组,横向展平\n",
    "    * flatten：将多维数组变一维数组，可以横向展平，也可以纵向展平\n",
    "* 组合\n",
    "    * hstack：数组横向组合\n",
    "    * vstack：数组纵向组合\n",
    "    * concatenate: 实现数组的横向组合和纵向组合\n",
    "* 分割\n",
    "    * hsplit: 对数组按列进行分割\n",
    "    * vsplit: 对数组按行进行分割\n",
    "    * split： 数据分割"
   ]
  },
  {
   "cell_type": "markdown",
   "id": "cfb4cf68",
   "metadata": {},
   "source": [
    "## 1. reshape\n",
    "reshape(shape, order='C')：在不改变数据的情况下为数组赋予新的形状\n",
    "* order C:横向；F:纵向\n",
    "* reshape函数生成的新数组和原始数组公用一个内存，也就是说，不管是改变新数组还是原始数组的元素，另一个数组也会随之改变"
   ]
  },
  {
   "cell_type": "code",
   "execution_count": 1,
   "id": "24a59ca2",
   "metadata": {},
   "outputs": [
    {
     "name": "stdout",
     "output_type": "stream",
     "text": [
      "x:\n",
      " [  1   2 999   4   5   6   7   8   9  10  11  12  13  14  15  16]\n",
      "X:\n",
      " [[  1   2 999   4]\n",
      " [  5   6   7   8]\n",
      " [  9  10  11  12]\n",
      " [ 13  14  15  16]]\n"
     ]
    }
   ],
   "source": [
    "import numpy as np\n",
    "x = np.arange(1,17)\n",
    "X = x.reshape(4,4,order='C') # 等同于 np.reshape(x,shape,order)\n",
    "x[2]= 999\n",
    "print('x:\\n',x)\n",
    "print('X:\\n',X)"
   ]
  },
  {
   "cell_type": "code",
   "execution_count": 2,
   "id": "180dde0c",
   "metadata": {
    "scrolled": true
   },
   "outputs": [
    {
     "data": {
      "text/plain": [
       "array([  1,   2, 999,   4,   5,   6,   7,   8,   9,  10,  11,  12,  13,\n",
       "        14,  15,  16])"
      ]
     },
     "execution_count": 2,
     "metadata": {},
     "output_type": "execute_result"
    }
   ],
   "source": [
    "# shape参数的其中一维可以是-1，表示该维度上的长度会自动根据数组的长度及其余维度的长度自动推断出来\n",
    "x1 = X.reshape(-1) # 等同于 X.reshape(16)\n",
    "x1"
   ]
  },
  {
   "cell_type": "code",
   "execution_count": 3,
   "id": "cb39d33f",
   "metadata": {},
   "outputs": [
    {
     "data": {
      "text/plain": [
       "array([[  1,   2, 999,   4,   5,   6,   7,   8],\n",
       "       [  9,  10,  11,  12,  13,  14,  15,  16]])"
      ]
     },
     "execution_count": 3,
     "metadata": {},
     "output_type": "execute_result"
    }
   ],
   "source": [
    "# 不知道行，知道列数，使用行位置填充-1进行自动计算\n",
    "X.reshape(-1,8)"
   ]
  },
  {
   "cell_type": "code",
   "execution_count": 4,
   "id": "f385e033",
   "metadata": {},
   "outputs": [
    {
     "data": {
      "text/plain": [
       "array([[  1,   2, 999,   4,   5,   6,   7,   8],\n",
       "       [  9,  10,  11,  12,  13,  14,  15,  16]])"
      ]
     },
     "execution_count": 4,
     "metadata": {},
     "output_type": "execute_result"
    }
   ],
   "source": [
    "# 知道行，不知道列\n",
    "X.reshape(2,-1)"
   ]
  },
  {
   "cell_type": "markdown",
   "id": "8d8167ab",
   "metadata": {},
   "source": [
    "## 2. resize\n",
    "x.resize(shape) 改变x自身的形态"
   ]
  },
  {
   "cell_type": "code",
   "execution_count": 5,
   "id": "7e82a44f",
   "metadata": {},
   "outputs": [
    {
     "name": "stdout",
     "output_type": "stream",
     "text": [
      "x改形前的shape： (4,)\n",
      "x改形后的shape： (2, 4)\n",
      "x:\n",
      " [[0 1 2 3]\n",
      " [0 0 0 0]]\n"
     ]
    }
   ],
   "source": [
    "x = np.arange(4)\n",
    "print('x改形前的shape：',x.shape)\n",
    "x.resize(2,4)\n",
    "print('x改形后的shape：',x.shape)  \n",
    "print(\"x:\\n\",x)"
   ]
  },
  {
   "cell_type": "markdown",
   "id": "27b3cb24",
   "metadata": {},
   "source": [
    "## 3. revel \n",
    "x.ravel() 将多维数组变一维数组"
   ]
  },
  {
   "cell_type": "code",
   "execution_count": 6,
   "id": "9fe3e247",
   "metadata": {},
   "outputs": [
    {
     "data": {
      "text/plain": [
       "array([ 1,  2,  3,  4,  5,  6,  7,  8,  9, 10, 11, 12, 13, 14, 15, 16])"
      ]
     },
     "execution_count": 6,
     "metadata": {},
     "output_type": "execute_result"
    }
   ],
   "source": [
    "X = np.arange(1,17).reshape(4,4)\n",
    "b = X.ravel()\n",
    "b"
   ]
  },
  {
   "cell_type": "code",
   "execution_count": 7,
   "id": "48e683ec",
   "metadata": {},
   "outputs": [
    {
     "name": "stdout",
     "output_type": "stream",
     "text": [
      "b:\n",
      " [  1   2   3 666   5   6   7   8   9  10  11  12  13  14  15  16]\n",
      "X:\n",
      " [[  1   2   3 666]\n",
      " [  5   6   7   8]\n",
      " [  9  10  11  12]\n",
      " [ 13  14  15  16]]\n"
     ]
    }
   ],
   "source": [
    "b[3]= 666\n",
    "print('b:\\n', b)\n",
    "print('X:\\n', X)"
   ]
  },
  {
   "cell_type": "markdown",
   "id": "3c9d1f03",
   "metadata": {},
   "source": [
    "## 4.flatten\n",
    "flatten(order='C')其功能与ravel()相同，但是flatten()返回的是真实的数组\n",
    "* order C:横向；F:纵向"
   ]
  },
  {
   "cell_type": "code",
   "execution_count": 8,
   "id": "01d381df",
   "metadata": {},
   "outputs": [
    {
     "data": {
      "text/plain": [
       "array([[ 1,  2,  3,  4],\n",
       "       [ 5,  6,  7,  8],\n",
       "       [ 9, 10, 11, 12],\n",
       "       [13, 14, 15, 16]])"
      ]
     },
     "execution_count": 8,
     "metadata": {},
     "output_type": "execute_result"
    }
   ],
   "source": [
    "X = np.arange(1,17).reshape(4,4)\n",
    "X"
   ]
  },
  {
   "cell_type": "code",
   "execution_count": 9,
   "id": "3c773063",
   "metadata": {},
   "outputs": [
    {
     "data": {
      "text/plain": [
       "array([ 1,  2,  3,  4,  5,  6,  7,  8,  9, 10, 11, 12, 13, 14, 15, 16])"
      ]
     },
     "execution_count": 9,
     "metadata": {},
     "output_type": "execute_result"
    }
   ],
   "source": [
    "c = X.flatten('C')\n",
    "c"
   ]
  },
  {
   "cell_type": "code",
   "execution_count": 10,
   "id": "f685eb7e",
   "metadata": {},
   "outputs": [
    {
     "data": {
      "text/plain": [
       "array([ 1,  5,  9, 13,  2,  6, 10, 14,  3,  7, 11, 15,  4,  8, 12, 16])"
      ]
     },
     "execution_count": 10,
     "metadata": {},
     "output_type": "execute_result"
    }
   ],
   "source": [
    "d = X.flatten('F')\n",
    "d"
   ]
  },
  {
   "cell_type": "code",
   "execution_count": 11,
   "id": "faf11d8d",
   "metadata": {},
   "outputs": [
    {
     "name": "stdout",
     "output_type": "stream",
     "text": [
      "c:\n",
      " [  1   2 666   4   5   6   7   8   9  10  11  12  13  14  15  16]\n",
      "X:\n",
      " [[ 1  2  3  4]\n",
      " [ 5  6  7  8]\n",
      " [ 9 10 11 12]\n",
      " [13 14 15 16]]\n"
     ]
    }
   ],
   "source": [
    "c[2]= 666\n",
    "print('c:\\n', c)\n",
    "print('X:\\n', X)"
   ]
  },
  {
   "cell_type": "markdown",
   "id": "033d8ced",
   "metadata": {},
   "source": [
    "## 5. hstack \n",
    "numpy.hstack(tup)  数组横向组合\n",
    "* tup是arrays组成的元组\n",
    "* 该函数相当于沿第二个轴连接（axis=1），除了一维数组的堆叠可以是不同长度外，其它数组堆叠时，除了第二个轴的长度可以不同外，其它轴的长度必须相同。"
   ]
  },
  {
   "cell_type": "code",
   "execution_count": 12,
   "id": "2f11bc27",
   "metadata": {},
   "outputs": [
    {
     "data": {
      "text/plain": [
       "array([1, 2, 3, 4, 5, 6, 7, 8])"
      ]
     },
     "execution_count": 12,
     "metadata": {},
     "output_type": "execute_result"
    }
   ],
   "source": [
    "a = np.arange(1,5)\n",
    "b = np.arange(5,9)\n",
    "c = np.hstack((a,b))\n",
    "c"
   ]
  },
  {
   "cell_type": "code",
   "execution_count": 13,
   "id": "ea845727",
   "metadata": {},
   "outputs": [
    {
     "name": "stdout",
     "output_type": "stream",
     "text": [
      "数组a1的shape： (2, 1, 6)\n",
      "数组a1：\n",
      " [[[ 1  2  3  4  5  6]]\n",
      "\n",
      " [[ 7  8  9 10 11 12]]]\n"
     ]
    }
   ],
   "source": [
    "a1 =np.arange(1,13).reshape(2,1,6)\n",
    "print('数组a1的shape：',a1.shape)\n",
    "print('数组a1：\\n',a1)"
   ]
  },
  {
   "cell_type": "code",
   "execution_count": 14,
   "id": "1137c5b0",
   "metadata": {},
   "outputs": [
    {
     "name": "stdout",
     "output_type": "stream",
     "text": [
      "数组b1的shape： (2, 2, 6)\n",
      "数组b1：\n",
      " [[[ 1  2  3  4  5  6]\n",
      "  [ 7  8  9 10 11 12]]\n",
      "\n",
      " [[13 14 15 16 17 18]\n",
      "  [19 20 21 22 23 24]]]\n"
     ]
    }
   ],
   "source": [
    "b1 = np.arange(1,25).reshape(2,2,6)\n",
    "print('数组b1的shape：',b1.shape)\n",
    "print('数组b1：\\n',b1)"
   ]
  },
  {
   "cell_type": "code",
   "execution_count": 15,
   "id": "6d0303f8",
   "metadata": {},
   "outputs": [
    {
     "name": "stdout",
     "output_type": "stream",
     "text": [
      "组合后数组的shape： (2, 3, 6)\n",
      "数组c1：\n",
      " [[[ 1  2  3  4  5  6]\n",
      "  [ 1  2  3  4  5  6]\n",
      "  [ 7  8  9 10 11 12]]\n",
      "\n",
      " [[ 7  8  9 10 11 12]\n",
      "  [13 14 15 16 17 18]\n",
      "  [19 20 21 22 23 24]]]\n"
     ]
    }
   ],
   "source": [
    "c1 = np.hstack((a1,b1))\n",
    "print('组合后数组的shape：',c1.shape)\n",
    "print('数组c1：\\n',c1)"
   ]
  },
  {
   "cell_type": "markdown",
   "id": "c0255c7e",
   "metadata": {},
   "source": [
    "## 6. vstack\n",
    "numpy.vstack(tup) 数组纵向组合\n",
    "* tup是arrays组成的元组\n",
    "* 该函数相当于沿第一个轴连接（axis=0），与其它数组堆叠时，除数组第一个轴的长度可以不同，其它轴长度必须一样。"
   ]
  },
  {
   "cell_type": "code",
   "execution_count": 16,
   "id": "1fa215a2",
   "metadata": {},
   "outputs": [
    {
     "data": {
      "text/plain": [
       "array([[1, 2],\n",
       "       [5, 6]])"
      ]
     },
     "execution_count": 16,
     "metadata": {},
     "output_type": "execute_result"
    }
   ],
   "source": [
    "a = np.arange(1,3)\n",
    "b = np.arange(5,7)\n",
    "c = np.vstack((a,b))\n",
    "c"
   ]
  },
  {
   "cell_type": "code",
   "execution_count": 17,
   "id": "703f23d6",
   "metadata": {},
   "outputs": [
    {
     "name": "stdout",
     "output_type": "stream",
     "text": [
      "数组a2的shape： (1, 2, 6)\n",
      "数组a2：\n",
      " [[[ 1  2  3  4  5  6]\n",
      "  [ 7  8  9 10 11 12]]]\n"
     ]
    }
   ],
   "source": [
    "a2 =np.arange(1,13).reshape(1,2,6)\n",
    "print('数组a2的shape：',a2.shape)\n",
    "print('数组a2：\\n',a2)"
   ]
  },
  {
   "cell_type": "code",
   "execution_count": 18,
   "id": "e7e01d32",
   "metadata": {},
   "outputs": [
    {
     "name": "stdout",
     "output_type": "stream",
     "text": [
      "数组b2的shape： (2, 2, 6)\n",
      "数组b2：\n",
      " [[[ 1  2  3  4  5  6]\n",
      "  [ 7  8  9 10 11 12]]\n",
      "\n",
      " [[13 14 15 16 17 18]\n",
      "  [19 20 21 22 23 24]]]\n"
     ]
    }
   ],
   "source": [
    "b2 = np.arange(1,25).reshape(2,2,6)\n",
    "print('数组b2的shape：',b2.shape)\n",
    "print('数组b2：\\n',b2)"
   ]
  },
  {
   "cell_type": "code",
   "execution_count": 19,
   "id": "eedd5d6d",
   "metadata": {},
   "outputs": [
    {
     "name": "stdout",
     "output_type": "stream",
     "text": [
      "组合后数组的shape： (3, 2, 6)\n",
      "数组c2：\n",
      " [[[ 1  2  3  4  5  6]\n",
      "  [ 7  8  9 10 11 12]]\n",
      "\n",
      " [[ 1  2  3  4  5  6]\n",
      "  [ 7  8  9 10 11 12]]\n",
      "\n",
      " [[13 14 15 16 17 18]\n",
      "  [19 20 21 22 23 24]]]\n"
     ]
    }
   ],
   "source": [
    "c2 = np.vstack((a2,b2))\n",
    "print('组合后数组的shape：',c2.shape)\n",
    "print('数组c2：\\n',c2)"
   ]
  },
  {
   "cell_type": "markdown",
   "id": "496fbfb8",
   "metadata": {},
   "source": [
    "## 7. concatenate\n",
    "numpy.concatenate((tup),axis) 实现数组的横向组合和纵向组合\n",
    "*  axis = 1 时，等同于 np.hstack\n",
    "*  axis = 0 时，等用于 np.vstack"
   ]
  },
  {
   "cell_type": "code",
   "execution_count": 20,
   "id": "02469010",
   "metadata": {},
   "outputs": [
    {
     "name": "stdout",
     "output_type": "stream",
     "text": [
      "[[[ 1  2  3  4  5  6]\n",
      "  [ 1  2  3  4  5  6]\n",
      "  [ 7  8  9 10 11 12]]\n",
      "\n",
      " [[ 7  8  9 10 11 12]\n",
      "  [13 14 15 16 17 18]\n",
      "  [19 20 21 22 23 24]]]\n"
     ]
    }
   ],
   "source": [
    "a2 = np.arange(1,13).reshape(2,1,6)\n",
    "b2 = np.arange(1,25).reshape(2,2,6)\n",
    "c1 = np.concatenate((a1,b1),axis=1)\n",
    "print(c1)"
   ]
  },
  {
   "cell_type": "code",
   "execution_count": 21,
   "id": "0b6f6e45",
   "metadata": {},
   "outputs": [
    {
     "name": "stdout",
     "output_type": "stream",
     "text": [
      "[[[ 1  2  3  4  5  6]\n",
      "  [ 7  8  9 10 11 12]]\n",
      "\n",
      " [[ 1  2  3  4  5  6]\n",
      "  [ 7  8  9 10 11 12]]\n",
      "\n",
      " [[13 14 15 16 17 18]\n",
      "  [19 20 21 22 23 24]]]\n"
     ]
    }
   ],
   "source": [
    "a2 = np.arange(1,13).reshape(1,2,6)\n",
    "b2 = np.arange(1,25).reshape(2,2,6)\n",
    "c2 = np.concatenate((a2,b2),axis=0)\n",
    "print(c2)"
   ]
  },
  {
   "cell_type": "markdown",
   "id": "42a3b383",
   "metadata": {},
   "source": [
    "##  8. hsplit\n",
    "numpy.hsplit(ary, indices_or_sections) 将数组横向分割成大小相同的子数组"
   ]
  },
  {
   "cell_type": "code",
   "execution_count": 22,
   "id": "feafb012",
   "metadata": {},
   "outputs": [
    {
     "data": {
      "text/plain": [
       "[array([[ 1,  2],\n",
       "        [ 5,  6],\n",
       "        [ 9, 10],\n",
       "        [13, 14]]),\n",
       " array([[ 3,  4],\n",
       "        [ 7,  8],\n",
       "        [11, 12],\n",
       "        [15, 16]])]"
      ]
     },
     "execution_count": 22,
     "metadata": {},
     "output_type": "execute_result"
    }
   ],
   "source": [
    "s1 = np.arange(1,17).reshape(4,4)\n",
    "arr = np.hsplit(s1,2)\n",
    "arr"
   ]
  },
  {
   "cell_type": "code",
   "execution_count": 23,
   "id": "c9796a9a",
   "metadata": {},
   "outputs": [
    {
     "data": {
      "text/plain": [
       "array([[ 1,  2],\n",
       "       [ 5,  6],\n",
       "       [ 9, 10],\n",
       "       [13, 14]])"
      ]
     },
     "execution_count": 23,
     "metadata": {},
     "output_type": "execute_result"
    }
   ],
   "source": [
    "arr[0]"
   ]
  },
  {
   "cell_type": "markdown",
   "id": "157c8151",
   "metadata": {},
   "source": [
    "## 9. vsplit\n",
    "numpy.vsplit(ary, indices_or_sections) 将数组纵向分割成大小相同的子数组"
   ]
  },
  {
   "cell_type": "code",
   "execution_count": 24,
   "id": "31cfbc87",
   "metadata": {},
   "outputs": [
    {
     "data": {
      "text/plain": [
       "[array([[1, 2, 3, 4],\n",
       "        [5, 6, 7, 8]]),\n",
       " array([[ 9, 10, 11, 12],\n",
       "        [13, 14, 15, 16]])]"
      ]
     },
     "execution_count": 24,
     "metadata": {},
     "output_type": "execute_result"
    }
   ],
   "source": [
    "arr2 = np.vsplit(s1,2)\n",
    "arr2"
   ]
  },
  {
   "cell_type": "code",
   "execution_count": 25,
   "id": "eb48a455",
   "metadata": {},
   "outputs": [
    {
     "data": {
      "text/plain": [
       "array([[ 9, 10, 11, 12],\n",
       "       [13, 14, 15, 16]])"
      ]
     },
     "execution_count": 25,
     "metadata": {},
     "output_type": "execute_result"
    }
   ],
   "source": [
    "arr2[1]"
   ]
  },
  {
   "cell_type": "markdown",
   "id": "d86b90a0",
   "metadata": {},
   "source": [
    "## 10 split\n",
    "np.split(ary, indices_or_sections, axis=0)  分割数组\n",
    "* axis = 1 时，等同于 np.hsplit\n",
    "* sxis = 0 时，等同于 np.vsplit"
   ]
  },
  {
   "cell_type": "code",
   "execution_count": 26,
   "id": "c536bf94",
   "metadata": {},
   "outputs": [
    {
     "data": {
      "text/plain": [
       "[array([[ 1,  2],\n",
       "        [ 5,  6],\n",
       "        [ 9, 10],\n",
       "        [13, 14]]),\n",
       " array([[ 3,  4],\n",
       "        [ 7,  8],\n",
       "        [11, 12],\n",
       "        [15, 16]])]"
      ]
     },
     "execution_count": 26,
     "metadata": {},
     "output_type": "execute_result"
    }
   ],
   "source": [
    "np.split(s1,2,axis=1)"
   ]
  },
  {
   "cell_type": "code",
   "execution_count": 27,
   "id": "ebb6bc2d",
   "metadata": {},
   "outputs": [
    {
     "data": {
      "text/plain": [
       "[array([[1, 2, 3, 4],\n",
       "        [5, 6, 7, 8]]),\n",
       " array([[ 9, 10, 11, 12],\n",
       "        [13, 14, 15, 16]])]"
      ]
     },
     "execution_count": 27,
     "metadata": {},
     "output_type": "execute_result"
    }
   ],
   "source": [
    "np.split(s1,2,axis=0)"
   ]
  }
 ],
 "metadata": {
  "kernelspec": {
   "display_name": "Python 3 (ipykernel)",
   "language": "python",
   "name": "python3"
  },
  "language_info": {
   "codemirror_mode": {
    "name": "ipython",
    "version": 3
   },
   "file_extension": ".py",
   "mimetype": "text/x-python",
   "name": "python",
   "nbconvert_exporter": "python",
   "pygments_lexer": "ipython3",
   "version": "3.8.11"
  }
 },
 "nbformat": 4,
 "nbformat_minor": 5
}
