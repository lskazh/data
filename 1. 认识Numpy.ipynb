{
 "cells": [
  {
   "cell_type": "markdown",
   "id": "ae3f43e1",
   "metadata": {},
   "source": [
    "## 1. NumPy 是什么？  \n",
    "NumPy是Python中提供科学计算的一个基础软件包, 它的功能主要包括：\n",
    "\n",
    "+ 功能强大的多维数组对象ndarray。\n",
    "+ 对数组执行元素级的计算以及直接对数组执行数学运算的函数。\n",
    "+ 读写硬盘上基于数组的数据集的工具\n",
    "+ 强大的线性代数、傅立叶变换和随机数功能。\n",
    "+ 将 C、C++、Fortran 代码集成到 Python 的工具。\n",
    "\n",
    "引用方式：  \n",
    "```python\n",
    "import numpy as np\n",
    "```\n"
   ]
  },
  {
   "cell_type": "code",
   "execution_count": null,
   "id": "720c5e10",
   "metadata": {},
   "outputs": [],
   "source": [
    "import numpy as np"
   ]
  },
  {
   "cell_type": "code",
   "execution_count": null,
   "id": "e1e5f964",
   "metadata": {},
   "outputs": [],
   "source": [
    "np.__version__"
   ]
  },
  {
   "cell_type": "markdown",
   "id": "c514ccf4",
   "metadata": {},
   "source": [
    "##  为什么使用NumPy？\n",
    "\n",
    "+ <span style=\"color:red;font-weight:bold;\">便捷 </span> <br/>\n",
    "对于同样的数值计算任务，使用NumPy要比直接编写Python代码便捷得多。\n",
    "+ <span style=\"color:red;font-weight:bold;\">高效 </span> <br/> \n",
    "NumPy的大部分代码都是用C语言写成的，这使得NumPy比纯Python代码高效得多。\n"
   ]
  },
  {
   "cell_type": "markdown",
   "id": "f86a2ca6",
   "metadata": {},
   "source": [
    "## 3. 举个例子"
   ]
  },
  {
   "cell_type": "markdown",
   "id": "8b88fed4",
   "metadata": {},
   "source": [
    "假设我们要实现一个需求：计算 $A^2 + A^3$  ，其中，A是一维数组，取值为1-n"
   ]
  },
  {
   "cell_type": "markdown",
   "id": "1b79cdde",
   "metadata": {},
   "source": [
    "### 使用Python原生语法"
   ]
  },
  {
   "cell_type": "code",
   "execution_count": null,
   "id": "c3b458c8",
   "metadata": {},
   "outputs": [],
   "source": [
    "def python_sum(n):\n",
    "    # 列表推导式\n",
    "    a = [i**2 for i in range(1,n)] \n",
    "    b = [i**3 for i in range(1,n)]\n",
    "    c =[]\n",
    "    for i in range(len(a)):\n",
    "        c.append(a[i]+ b[i])\n",
    "    return c\n",
    "python_sum(10)"
   ]
  },
  {
   "cell_type": "markdown",
   "id": "ce22ef70",
   "metadata": {},
   "source": [
    "### 使用Numpy实现"
   ]
  },
  {
   "cell_type": "code",
   "execution_count": null,
   "id": "b8e0bb45",
   "metadata": {},
   "outputs": [],
   "source": [
    "import numpy as np\n",
    "def numpy_sum(n):\n",
    "    a = np.arange(1,n) ** 2\n",
    "    b = np.arange(1,n) ** 3\n",
    "    return a+b\n",
    "numpy_sum(10)"
   ]
  },
  {
   "cell_type": "markdown",
   "id": "5b9a40ae",
   "metadata": {},
   "source": [
    "### 比较性能：n=1000次"
   ]
  },
  {
   "cell_type": "code",
   "execution_count": null,
   "id": "1ece5b1d",
   "metadata": {},
   "outputs": [],
   "source": [
    "%timeit -n 1000 python_sum(100) "
   ]
  },
  {
   "cell_type": "code",
   "execution_count": null,
   "id": "a908639e",
   "metadata": {},
   "outputs": [],
   "source": [
    "%timeit -n 1000 numpy_sum(100)"
   ]
  }
 ],
 "metadata": {
  "celltoolbar": "附件",
  "kernelspec": {
   "display_name": "Python 3 (ipykernel)",
   "language": "python",
   "name": "python3"
  },
  "language_info": {
   "codemirror_mode": {
    "name": "ipython",
    "version": 3
   },
   "file_extension": ".py",
   "mimetype": "text/x-python",
   "name": "python",
   "nbconvert_exporter": "python",
   "pygments_lexer": "ipython3",
   "version": "3.8.11"
  }
 },
 "nbformat": 4,
 "nbformat_minor": 5
}
