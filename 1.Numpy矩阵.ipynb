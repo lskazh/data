{
 "cells": [
  {
   "cell_type": "markdown",
   "id": "48862265",
   "metadata": {},
   "source": [
    "# <center>Numpy矩阵</center>"
   ]
  },
  {
   "cell_type": "markdown",
   "id": "bff20cb4",
   "metadata": {},
   "source": [
    "# 1. 创建矩阵\n",
    "    * 使用mat 函数创建矩阵\n",
    "    * 使用matrix 函数创建矩阵\n",
    "    * 使用bmat创建矩阵"
   ]
  },
  {
   "cell_type": "markdown",
   "id": "350459ee",
   "metadata": {},
   "source": [
    "1. 使用mat 函数创建矩阵"
   ]
  },
  {
   "cell_type": "code",
   "execution_count": 1,
   "id": "8f1f464b",
   "metadata": {},
   "outputs": [
    {
     "data": {
      "text/plain": [
       "matrix([[1, 2, 3],\n",
       "        [4, 5, 6],\n",
       "        [7, 8, 9]])"
      ]
     },
     "execution_count": 1,
     "metadata": {},
     "output_type": "execute_result"
    }
   ],
   "source": [
    "import numpy as np\n",
    "\n",
    "matr1 = np.mat('1,2,3;4,5,6;7,8,9')\n",
    "matr1"
   ]
  },
  {
   "cell_type": "markdown",
   "id": "e9f2e893",
   "metadata": {},
   "source": [
    "2. 使用matrix 函数创建矩阵"
   ]
  },
  {
   "cell_type": "code",
   "execution_count": 2,
   "id": "8cd9769c",
   "metadata": {
    "scrolled": true
   },
   "outputs": [
    {
     "data": {
      "text/plain": [
       "matrix([[1, 2, 3],\n",
       "        [4, 5, 6],\n",
       "        [7, 8, 9]])"
      ]
     },
     "execution_count": 2,
     "metadata": {},
     "output_type": "execute_result"
    }
   ],
   "source": [
    "matr2 = np.matrix([[1,2,3],[4,5,6],[7,8,9]])\n",
    "matr2"
   ]
  },
  {
   "cell_type": "markdown",
   "id": "cad2d799",
   "metadata": {},
   "source": [
    "3. 使用bmat函数创建矩阵  \n",
    "bmat 为分块矩阵函数，可以根据小的矩阵创建大的矩阵"
   ]
  },
  {
   "cell_type": "code",
   "execution_count": 3,
   "id": "9828392a",
   "metadata": {},
   "outputs": [
    {
     "data": {
      "text/plain": [
       "array([[1., 0., 0.],\n",
       "       [0., 1., 0.],\n",
       "       [0., 0., 1.]])"
      ]
     },
     "execution_count": 3,
     "metadata": {},
     "output_type": "execute_result"
    }
   ],
   "source": [
    "arr1 = arr4 =np.eye(3)\n",
    "arr1"
   ]
  },
  {
   "cell_type": "code",
   "execution_count": 4,
   "id": "5974570d",
   "metadata": {},
   "outputs": [
    {
     "data": {
      "text/plain": [
       "array([[0., 0., 0.],\n",
       "       [0., 0., 0.],\n",
       "       [0., 0., 0.]])"
      ]
     },
     "execution_count": 4,
     "metadata": {},
     "output_type": "execute_result"
    }
   ],
   "source": [
    "arr2 = arr3 = np.zeros((3,3))\n",
    "arr2"
   ]
  },
  {
   "cell_type": "code",
   "execution_count": 5,
   "id": "5d7306d5",
   "metadata": {},
   "outputs": [
    {
     "data": {
      "text/plain": [
       "matrix([[1., 0., 0., 0., 0., 0.],\n",
       "        [0., 1., 0., 0., 0., 0.],\n",
       "        [0., 0., 1., 0., 0., 0.],\n",
       "        [0., 0., 0., 1., 0., 0.],\n",
       "        [0., 0., 0., 0., 1., 0.],\n",
       "        [0., 0., 0., 0., 0., 1.]])"
      ]
     },
     "execution_count": 5,
     "metadata": {},
     "output_type": "execute_result"
    }
   ],
   "source": [
    "matr3 = np.bmat(\"arr1 arr2; arr3 arr4\")\n",
    "matr3"
   ]
  },
  {
   "cell_type": "markdown",
   "id": "26d601fa",
   "metadata": {},
   "source": [
    "# 2. 矩阵运算\n",
    "* \\+：\t矩阵对应元素相加\n",
    "* \\-：\t矩阵对应元素相减\n",
    "*  \\*：\t矩阵对应元素相乘"
   ]
  },
  {
   "cell_type": "code",
   "execution_count": 1,
   "id": "9254c881",
   "metadata": {},
   "outputs": [],
   "source": [
    "import numpy as np"
   ]
  },
  {
   "cell_type": "code",
   "execution_count": 6,
   "id": "880131d5",
   "metadata": {
    "scrolled": true
   },
   "outputs": [
    {
     "data": {
      "text/plain": [
       "matrix([[1, 2, 3],\n",
       "        [4, 5, 6],\n",
       "        [7, 8, 9]])"
      ]
     },
     "execution_count": 6,
     "metadata": {},
     "output_type": "execute_result"
    }
   ],
   "source": [
    "matr1 = np.mat('1,2,3;4,5,6;7,8,9')\n",
    "matr1"
   ]
  },
  {
   "cell_type": "code",
   "execution_count": 7,
   "id": "42b81df0",
   "metadata": {},
   "outputs": [
    {
     "data": {
      "text/plain": [
       "matrix([[1, 2, 3],\n",
       "        [4, 5, 6],\n",
       "        [7, 8, 9]])"
      ]
     },
     "execution_count": 7,
     "metadata": {},
     "output_type": "execute_result"
    }
   ],
   "source": [
    "matr2 = np.mat('1,2,3;4,5,6;7,8,9')\n",
    "matr2"
   ]
  },
  {
   "cell_type": "code",
   "execution_count": 8,
   "id": "4e43ddfc",
   "metadata": {},
   "outputs": [
    {
     "data": {
      "text/plain": [
       "matrix([[ 2,  4,  6],\n",
       "        [ 8, 10, 12],\n",
       "        [14, 16, 18]])"
      ]
     },
     "execution_count": 8,
     "metadata": {},
     "output_type": "execute_result"
    }
   ],
   "source": [
    "# 矩阵相加\n",
    "matr3 = matr1 + matr2\n",
    "matr3"
   ]
  },
  {
   "cell_type": "code",
   "execution_count": 9,
   "id": "ca26599c",
   "metadata": {
    "scrolled": true
   },
   "outputs": [
    {
     "data": {
      "text/plain": [
       "matrix([[0, 0, 0],\n",
       "        [0, 0, 0],\n",
       "        [0, 0, 0]])"
      ]
     },
     "execution_count": 9,
     "metadata": {},
     "output_type": "execute_result"
    }
   ],
   "source": [
    "## 矩阵相减\n",
    "matr4 = matr1 - matr2\n",
    "matr4"
   ]
  },
  {
   "cell_type": "code",
   "execution_count": 10,
   "id": "ef3128c2",
   "metadata": {},
   "outputs": [
    {
     "data": {
      "text/plain": [
       "matrix([[ 30,  36,  42],\n",
       "        [ 66,  81,  96],\n",
       "        [102, 126, 150]])"
      ]
     },
     "execution_count": 10,
     "metadata": {},
     "output_type": "execute_result"
    }
   ],
   "source": [
    "## 矩阵相乘（点乘）\n",
    "matr5 = matr1 * matr2\n",
    "matr5"
   ]
  },
  {
   "cell_type": "code",
   "execution_count": 11,
   "id": "0f9bfce2",
   "metadata": {},
   "outputs": [
    {
     "data": {
      "text/plain": [
       "matrix([[ 30,  36,  42],\n",
       "        [ 66,  81,  96],\n",
       "        [102, 126, 150]])"
      ]
     },
     "execution_count": 11,
     "metadata": {},
     "output_type": "execute_result"
    }
   ],
   "source": [
    "# 等用于 dot 函数\n",
    "matr6 = matr1.dot(matr2)\n",
    "matr6"
   ]
  },
  {
   "cell_type": "code",
   "execution_count": 12,
   "id": "49a8d106",
   "metadata": {
    "scrolled": true
   },
   "outputs": [
    {
     "data": {
      "text/plain": [
       "array([[ 1,  4,  9],\n",
       "       [16, 25, 36],\n",
       "       [49, 64, 81]])"
      ]
     },
     "execution_count": 12,
     "metadata": {},
     "output_type": "execute_result"
    }
   ],
   "source": [
    "# 与数组的乘法区别开\n",
    "a = np.arange(1,10).reshape(3,3)\n",
    "b = np.arange(1,10).reshape(3,3)\n",
    "c = a * b\n",
    "c"
   ]
  },
  {
   "cell_type": "markdown",
   "id": "22ab9328",
   "metadata": {},
   "source": [
    "# 3. 矩阵属性\n",
    "* T ： 返回自身的转置\n",
    "* H ： 返回自身的共轭转置\n",
    "* I ： 返回自身的逆矩阵\n",
    "* A ： 返回自身数据的二维数组的一个视图"
   ]
  },
  {
   "cell_type": "code",
   "execution_count": 2,
   "id": "14a128ea",
   "metadata": {},
   "outputs": [
    {
     "data": {
      "text/plain": [
       "matrix([[1, 2, 3],\n",
       "        [4, 5, 6],\n",
       "        [7, 8, 9]])"
      ]
     },
     "execution_count": 2,
     "metadata": {},
     "output_type": "execute_result"
    }
   ],
   "source": [
    "matr1 = np.mat('1,2,3;4,5,6;7,8,9')\n",
    "matr1"
   ]
  },
  {
   "cell_type": "code",
   "execution_count": 3,
   "id": "fe499262",
   "metadata": {},
   "outputs": [
    {
     "data": {
      "text/plain": [
       "matrix([[1, 4, 7],\n",
       "        [2, 5, 8],\n",
       "        [3, 6, 9]])"
      ]
     },
     "execution_count": 3,
     "metadata": {},
     "output_type": "execute_result"
    }
   ],
   "source": [
    "#返回自身的转置\n",
    "matr1.T"
   ]
  },
  {
   "cell_type": "code",
   "execution_count": 4,
   "id": "0d40b6fb",
   "metadata": {},
   "outputs": [
    {
     "data": {
      "text/plain": [
       "matrix([[1, 4, 7],\n",
       "        [2, 5, 8],\n",
       "        [3, 6, 9]])"
      ]
     },
     "execution_count": 4,
     "metadata": {},
     "output_type": "execute_result"
    }
   ],
   "source": [
    "# 返回自身的共轭转置\n",
    "matr1.H"
   ]
  },
  {
   "cell_type": "code",
   "execution_count": 16,
   "id": "14198c77",
   "metadata": {},
   "outputs": [
    {
     "data": {
      "text/plain": [
       "matrix([[ 3.15251974e+15, -6.30503948e+15,  3.15251974e+15],\n",
       "        [-6.30503948e+15,  1.26100790e+16, -6.30503948e+15],\n",
       "        [ 3.15251974e+15, -6.30503948e+15,  3.15251974e+15]])"
      ]
     },
     "execution_count": 16,
     "metadata": {},
     "output_type": "execute_result"
    }
   ],
   "source": [
    "# 返回自身的逆矩阵\n",
    "matr1.I"
   ]
  },
  {
   "cell_type": "code",
   "execution_count": 17,
   "id": "41078458",
   "metadata": {},
   "outputs": [
    {
     "data": {
      "text/plain": [
       "array([[1, 2, 3],\n",
       "       [4, 5, 6],\n",
       "       [7, 8, 9]])"
      ]
     },
     "execution_count": 17,
     "metadata": {},
     "output_type": "execute_result"
    }
   ],
   "source": [
    "# 返回自身数据的二维数组的一个视图\n",
    "matr1.A"
   ]
  },
  {
   "cell_type": "code",
   "execution_count": null,
   "id": "10698798",
   "metadata": {},
   "outputs": [],
   "source": []
  }
 ],
 "metadata": {
  "kernelspec": {
   "display_name": "Python 3 (ipykernel)",
   "language": "python",
   "name": "python3"
  },
  "language_info": {
   "codemirror_mode": {
    "name": "ipython",
    "version": 3
   },
   "file_extension": ".py",
   "mimetype": "text/x-python",
   "name": "python",
   "nbconvert_exporter": "python",
   "pygments_lexer": "ipython3",
   "version": "3.8.11"
  }
 },
 "nbformat": 4,
 "nbformat_minor": 5
}
